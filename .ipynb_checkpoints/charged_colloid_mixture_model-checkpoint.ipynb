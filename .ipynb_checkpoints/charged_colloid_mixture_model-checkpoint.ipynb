{
 "cells": [
  {
   "cell_type": "markdown",
   "metadata": {},
   "source": [
    "#Theoretical model for a binary mixture of oppositely charged colloids with counterions and salt"
   ]
  },
  {
   "cell_type": "markdown",
   "metadata": {},
   "source": [
    "###Required imports\n",
    "\n",
    "---"
   ]
  },
  {
   "cell_type": "code",
   "execution_count": 210,
   "metadata": {
    "collapsed": false
   },
   "outputs": [],
   "source": [
    "import numdifftools as nd\n",
    "from math import pi\n",
    "from numpy import exp, log, sign\n",
    "from numpy.linalg import det, slogdet, inv\n",
    "from numpy import array, arange, linspace, append, matrix, dot, absolute\n",
    "import matplotlib.pyplot as plt\n",
    "import collections\n",
    "import functools\n",
    "import pickle\n",
    "from scipy.fftpack import dst, idst\n",
    "import timeit\n",
    "%matplotlib inline "
   ]
  },
  {
   "cell_type": "markdown",
   "metadata": {},
   "source": [
    "###Create a memoized class to decorate some functions with and prevent trivial re-evaluation\n",
    "\n",
    "---"
   ]
  },
  {
   "cell_type": "code",
   "execution_count": 2,
   "metadata": {
    "collapsed": true
   },
   "outputs": [],
   "source": [
    "class memoized(object):\n",
    "    '''Decorator. Caches a function's return value each time it is called.\n",
    "    If called later with the same arguments, the cached value is returned\n",
    "    (not reevaluated).\n",
    "    '''\n",
    "    def __init__(self, func):\n",
    "        self.func = func\n",
    "        self.cache = {}\n",
    "    def __call__(self, *args):\n",
    "        if not isinstance(args, collections.Hashable):\n",
    "            # uncacheable. a list, for instance.\n",
    "            # better to not cache than blow up.\n",
    "            return self.func(*args)\n",
    "        if args in self.cache:\n",
    "            return self.cache[args]\n",
    "        else:\n",
    "            value = self.func(*args)\n",
    "            self.cache[args] = value\n",
    "            return value\n",
    "    def __repr__(self):\n",
    "        '''Return the function's docstring.'''\n",
    "        return self.func.__doc__\n",
    "    def __get__(self, obj, objtype):\n",
    "        '''Support instance methods.'''\n",
    "        return functools.partial(self.__call__, obj)"
   ]
  },
  {
   "cell_type": "markdown",
   "metadata": {},
   "source": [
    "###Function to create binary PY hardsphere RDFs using analytical results\n",
    "\n",
    "The expressions are taken from http://dx.doi.org/10.1103/PhysRev.133.A895 (Eqns. 37 - 40)\n",
    "\n",
    "---"
   ]
  },
  {
   "cell_type": "code",
   "execution_count": 227,
   "metadata": {
    "collapsed": false
   },
   "outputs": [],
   "source": [
    "#calculate the pressure\n",
    "def calculate_pressure(p_1, p_2, d_1, d_2):\n",
    "    eta_1 = (pi/6.0)*p_1\n",
    "    eta_2 = (pi/6.0)*p_2\n",
    "    xi = eta_1*(d_1**3.0) + eta_2*(d_2**3.0)\n",
    "    \n",
    "    P = ((p_1 + p_2)*(1.0 + xi + xi**2.0) - \n",
    "         (18.0/pi)*eta_1*eta_2*((d_2 - d_1)**2.0)*((d_1 + d_2) + d_1*d_2*(eta_1*(d_1**2.0) + eta_2*(d_2**2.0))))/((1.0 - xi)**3.0)\n",
    "    \n",
    "    return P\n",
    "\n",
    "\n",
    "#numerically evaluate pressure derivatives\n",
    "def calculate_pressure_derivs(p_1, p_2, d_1, d_2):\n",
    "    deriv_steps = nd.MinStepGenerator(base_step=0.0001, step_ratio=2.0, num_steps = 4)\n",
    "    \n",
    "    P_1 = lambda x: calculate_pressure(x, p_2, d_1, d_2)\n",
    "    P_2 = lambda x: calculate_pressure(p_1, x, d_1, d_2)\n",
    "    dP_dp_1 = nd.Derivative(P_1, step = deriv_steps) \n",
    "    dP_dp_2 = nd.Derivative(P_2, step = deriv_steps)\n",
    "    \n",
    "    return (dP_dp_1(p_1).tolist(), dP_dp_2(p_2).tolist())\n",
    "\n",
    "\n",
    "#generates the three PY direct correlation functions\n",
    "#@memoized\n",
    "def calculate_dcfs(p_1, p_2, d_1, d_2, N, dr):\n",
    "    R = linspace(dr, N*dr, N)\n",
    "    eta_1 = (pi/6.0)*p_1\n",
    "    eta_2 = (pi/6.0)*p_2\n",
    "    xi = eta_1*(d_1**3.0) + eta_2*(d_2**3.0)\n",
    "    d_12 = (d_1 + d_2)/2.0\n",
    "    dd_12 = (d_2 - d_1)/2.0\n",
    "    \n",
    "    g_11 = (1.0 + xi/2.0 + 3.0*eta_2*(d_2**2.0)*(d_1 - d_2)/2.0)/((1.0 - xi)**2.0)\n",
    "    g_22 = (1.0 + xi/2.0 + 3.0*eta_1*(d_1**2.0)*(d_2 - d_1)/2.0)/((1.0 - xi)**2.0)\n",
    "    g_12 = (d_2*g_11 + d_1*g_22)/(2.0*d_12)\n",
    "    \n",
    "    a_1, a_2 = calculate_pressure_derivs(p_1, p_2, d_1, d_2)\n",
    "    \n",
    "    b_1 = -6.0*(eta_1*(d_1**2.0)*(g_11**2.0) + eta_2*(d_12**2.0)*(g_12**2.0))\n",
    "    b_2 = -6.0*(eta_2*(d_2**2.0)*(g_22**2.0) + eta_1*(d_12**2.0)*(g_12**2.0))\n",
    "    \n",
    "    b = -6.0*(eta_1*d_1*g_11 + eta_2*d_2*g_22)*d_12*g_12\n",
    "    d = (eta_1*a_1 + eta_2*a_2)/2.0\n",
    "    \n",
    "    #load in the dcfs    \n",
    "    #this is vectorized for maximum performance\n",
    "    CR = {\"c_11\":array([]), \"c_22\":array([]), \"c_12\":array([])}   \n",
    "        \n",
    "    CR[\"c_11\"] = (-a_1 - b_1*R - d*(R**3.0))*(R < d_1).astype(float)\n",
    "    CR[\"c_22\"] = (-a_2 - b_2*R - d*(R**3.0))*(R < d_2).astype(float)\n",
    "    CR[\"c_12\"] = ((-a_1)*(R <= dd_12).astype(float) \n",
    "                  + (-a_1 - (b*((R - dd_12)**2.0) + 4.0*dd_12*d*((R - dd_12)**3.0) \n",
    "                             + d*((R - dd_12)**4.0))/R)*(R > dd_12).astype(float)*(R < d_12).astype(float))\n",
    "    \n",
    "    return CR\n",
    "\n",
    "\n",
    "#calculate the binary mixture rdfs\n",
    "#this assumes that that particle 2 is larger than particle 1\n",
    "def calculate_rdfs(p_1, p_2, d_1, d_2, N, dr):\n",
    "    r_max = N*dr\n",
    "    k_min = pi*(0.5)/r_max\n",
    "    k_max = pi*(float(N) - 0.5)/r_max\n",
    "    K = linspace(k_min, k_max, N)\n",
    "    R = linspace(dr, N*dr, N)\n",
    "    ft_ind = linspace(1, N, N)\n",
    "    \n",
    "    CR = calculate_dcfs(p_1, p_2, d_1, d_2, N, dr)   \n",
    "    \n",
    "    CK = {}\n",
    "    CK[\"c_11\"] = ((4.0*pi*r_max**2.0)/(2.0*N**2.0))*dst(ft_ind*CR[\"c_11\"], type=3)/K\n",
    "    CK[\"c_22\"] = ((4.0*pi*r_max**2.0)/(2.0*N**2.0))*dst(ft_ind*CR[\"c_22\"], type=3)/K\n",
    "    CK[\"c_12\"] = ((4.0*pi*r_max**2.0)/(2.0*N**2.0))*dst(ft_ind*CR[\"c_12\"], type=3)/K   \n",
    "    \n",
    "    HK = {\"h_11\":[], \"h_22\":[], \"h_12\":[]}\n",
    "     \n",
    "    mCK = matrix([[],[]])\n",
    "    \n",
    "    for i in range(len(K)):\n",
    "        c_11 = CK[\"c_11\"][i]\n",
    "        c_22 = CK[\"c_22\"][i]\n",
    "        c_12 = CK[\"c_12\"][i]\n",
    "        \n",
    "        ########################################################################\n",
    "        \n",
    "        mCK = matrix([[c_11, c_12],[c_12, c_22]])\n",
    "        mI = matrix([[1.0, 0.0],[0.0, 1.0]])\n",
    "        mP = matrix([[p_1, 0.0],[0.0, p_2]])\n",
    "        \n",
    "        mHK = dot(mCK, inv(mI - dot(mP, mCK)))\n",
    "        \n",
    "        HK[\"h_11\"].append(mHK.item((0, 0)))\n",
    "        HK[\"h_22\"].append(mHK.item((1, 1)))\n",
    "        HK[\"h_12\"].append(mHK.item((0, 1)))\n",
    "        \n",
    "        ########################################################################\n",
    "        \n",
    "        #HK[\"h_11\"].append(c_11)\n",
    "        #HK[\"h_22\"].append(c_22)\n",
    "        #HK[\"h_12\"].append(c_12)     \n",
    "        \n",
    "    core_loc_11 = int((d_1 - dr)/dr + 0.5)\n",
    "    core_loc_22 = int((d_2 - dr)/dr + 0.5)\n",
    "    core_loc_12 = int((0.5*(d_1 + d_2) - dr)/dr + 0.5)\n",
    "    \n",
    "    GR = {} \n",
    "    GR[\"g_11\"] = (((4.0*pi*k_max**2.0)/((8.0*pi**3.0)*2.0*N**2.0))*idst(ft_ind*HK[\"h_11\"], type=3)/R + 1.0)[core_loc_11 + 1:]\n",
    "    GR[\"r_11\"] = R[core_loc_11 + 1:]\n",
    "    GR[\"g_22\"] = (((4.0*pi*k_max**2.0)/((8.0*pi**3.0)*2.0*N**2.0))*idst(ft_ind*HK[\"h_22\"], type=3)/R + 1.0)[core_loc_22 + 1:]\n",
    "    GR[\"r_22\"] = R[core_loc_22 + 1:]\n",
    "    GR[\"g_12\"] = (((4.0*pi*k_max**2.0)/((8.0*pi**3.0)*2.0*N**2.0))*idst(ft_ind*HK[\"h_12\"], type=3)/R + 1.0)[core_loc_12 + 1:] \n",
    "    GR[\"r_12\"] = R[core_loc_12 + 1:]\n",
    "\n",
    "    return GR"
   ]
  },
  {
   "cell_type": "code",
   "execution_count": 239,
   "metadata": {
    "collapsed": false
   },
   "outputs": [],
   "source": [
    "#variables for transform\n",
    "N = 16384/2\n",
    "dr = 0.002\n",
    "\n",
    "r_max = N*dr\n",
    "k_min = pi*(0.5)/r_max\n",
    "k_max = pi*(float(N) - 0.5)/r_max\n",
    "K = linspace(k_min, k_max, N)\n",
    "R = linspace(dr, N*dr, N)\n",
    "\n",
    "p_1 = 1.0\n",
    "p_2 = 1.0\n",
    "\n",
    "d_1 = 0.2\n",
    "d_2 = 1.000000001\n",
    "CR = calculate_dcfs(p_1, p_2, d_1, d_2, N, dr)\n",
    "GR = calculate_rdfs(p_1, p_2, d_1, d_2, N, dr)"
   ]
  },
  {
   "cell_type": "code",
   "execution_count": 240,
   "metadata": {
    "collapsed": false
   },
   "outputs": [
    {
     "data": {
      "image/png": "[encoded data removed]",
      "text/plain": [
       "<matplotlib.figure.Figure at 0x1497d7b8>"
      ]
     },
     "metadata": {},
     "output_type": "display_data"
    }
   ],
   "source": [
    "x1 = GR[\"r_11\"]\n",
    "x2 = GR[\"r_22\"]\n",
    "x3 = GR[\"r_12\"]\n",
    "y1 = GR[\"g_11\"]\n",
    "y2 = GR[\"g_22\"]\n",
    "y3 = GR[\"g_12\"]\n",
    "\n",
    "plt.plot(x1, y1)\n",
    "plt.plot(x2, y2)\n",
    "plt.plot(x3, y3)\n",
    "plt.xlim([0, 5])\n",
    "plt.ylim([-0.2, 8])\n",
    "plt.grid()\n",
    "plt.show()"
   ]
  },
  {
   "cell_type": "markdown",
   "metadata": {},
   "source": [
    "##NOTE: All following free energy terms are per volume and thermal energy\n",
    "####This makes the stability calculation easier by simplifying the form of the mixed partial derivatives needed for the stability calculation\n",
    "\n",
    "##Variable definitions:\n",
    "  * **d_c_1 & d_c_2** = colloid diameter\n",
    "  * **p_c_1 & p_c_2** = colloid density\n",
    "  * **Z_c_1 & Z_c_2** = colloid surface charge (positive or negative)\n",
    " \n",
    "  \n",
    "  * **p_pos** = positive monovalent salt or counterion density\n",
    "  * **p_neg** = negative monovalent salt or counterion density"
   ]
  },
  {
   "cell_type": "markdown",
   "metadata": {},
   "source": [
    "###Ideal free energy\n",
    "---"
   ]
  },
  {
   "cell_type": "code",
   "execution_count": 241,
   "metadata": {
    "collapsed": true
   },
   "outputs": [],
   "source": [
    "def calculate_f_id(p_c_1, p_c_2, p_pos, p_neg, d_c_1, d_c_2):\n",
    "    \n",
    "    #just creating an arbitrary length scale to non-dimensionalize the log term\n",
    "    vol = (d_c_1/2.0 + d_c_2/2.0)**3.0\n",
    "    p = p_c_1 + p_c_2 + p_pos + p_neg\n",
    "    \n",
    "    #ideal contribution containing both mixing and translational entropy\n",
    "    fid = p_c_1*log(p_c_1*vol) + p_c_2*log(p_c_2*vol) + p_pos*log(p_pos*vol) + p_neg*log(p_neg*vol) - p\n",
    "    \n",
    "    return fid"
   ]
  },
  {
   "cell_type": "markdown",
   "metadata": {},
   "source": [
    "###Excess binary HS free energy\n",
    "\n",
    "This uses the binary Carnahan Starling result of http://dx.doi.org/10.1063/1.1675048 (Eqn. 11)\n",
    "\n",
    "---"
   ]
  },
  {
   "cell_type": "code",
   "execution_count": 252,
   "metadata": {
    "collapsed": true
   },
   "outputs": [],
   "source": [
    "def calculate_f_ex_hs(p_c_1, p_c_2, d_c_1, d_c_2):\n",
    "    \n",
    "    #for convenience I just us a numbered notation similar to that in the above reference\n",
    "    d1 = d_c_1\n",
    "    d2 = d_c_2\n",
    "    x1 = p_c_1/(p_c_1 + p_c_2)\n",
    "    x2 = p_c_2/(p_c_1 + p_c_2)\n",
    "    n1 = (pi/6.0)*p_c_1*(d_c_1**3.0)\n",
    "    n2 = (pi/6.0)*p_c_2*(d_c_2**3.0)\n",
    "    n = n1 + n2\n",
    "    \n",
    "    #calculate simplified values for free energy function\n",
    "    q12 = (((n1*n2)**(1.0/2.0))/n)*(((d1 - d2)**2.0)/(d1*d2))*((x1*x2)**(1.0/2.0)) #only this cross term survives in binary mixture\n",
    "    y1 = q12*(d1 + d2)*((d1*d2)**(-1.0/2.0))\n",
    "    y2 = (q12/n)*((d1*d2)**(1.0/2.0))*(n1/d1 + n2/d2)\n",
    "    y3 = (((n1/n)**(2.0/3.0))*(x1**(1.0/3.0)) + ((n2/n)**(2.0/3.0))*(x2**(1.0/3.0)))**3.0\n",
    "    \n",
    "    #final binary hs free energy\n",
    "    f_ex_hs = (p_c_1 + p_c_2)*(-(3.0/2.0)*(1.0 - y1 + y2 + y3) \n",
    "                                    + (3.0*y2 + 2.0*y3)/(1.0 - n) \n",
    "                                    + (3.0/2.0)*(1.0 - y1 - y2 - (1.0/3.0)*y3)/((1.0 - n)**2.0) \n",
    "                                    + (y3 - 1.0)*log(1.0 - n))\n",
    "    \n",
    "    return f_ex_hs"
   ]
  },
  {
   "cell_type": "markdown",
   "metadata": {},
   "source": [
    "###Perturbative polyion-polyion DLVO free energy\n",
    "\n",
    "This uses the DLVO theory http://dx.doi.org/10.1103/PhysRevE.59.2010 (Eqn. 61 - 65)\n",
    "\n",
    "Also used is the Mayer function perturbation expansion of http://dx.doi.org/10.1080/00268970701416605 (Eqn. 9 and 15)\n",
    "\n",
    "---"
   ]
  },
  {
   "cell_type": "code",
   "execution_count": 243,
   "metadata": {
    "collapsed": false
   },
   "outputs": [],
   "source": [
    "def calculate_cc_perturb_integrals(p_c_1, p_c_2, #state variables (removed p_p)\n",
    "                        k, #redundant state variables already calculated in calling function\n",
    "                        l, Z_c_1, Z_c_2, d_c_1, d_c_2, #system parameters\n",
    "                        N, dr): # integration parameters\n",
    "    \n",
    "    #effective charge parameter to be used in calculating the DLVO colloid-colloid pair interaction\n",
    "    Z_c_1_eff = Z_c_1*(exp(k*(d_c_1/2.0))/(1.0 + k*(d_c_1/2.0)))\n",
    "    Z_c_2_eff = Z_c_2*(exp(k*(d_c_2/2.0))/(1.0 + k*(d_c_2/2.0)))\n",
    "    \n",
    "    #use a bare HS fluid (colloid) + ideal point particle (polymer) system as the reference \n",
    "    GR = calculate_rdfs(p_c_1, p_c_2, d_c_1, d_c_2, N, dr)\n",
    "    \n",
    "    #calculate the integral\n",
    "    #the rdf only contains data outside the core region\n",
    "    #NOTE: for better performance i vectorized the integration, so no explicit loops\n",
    "    R_I = R[0:-1]\n",
    "    R_II = R[1:]\n",
    "    \n",
    "    #1-1 calculation\n",
    "    GR_I = GR[\"g_11\"][0:-1]\n",
    "    GR_II = GR[\"g_11\"][1:]\n",
    "    R_I = GR[\"r_11\"][0:-1]\n",
    "    R_II = GR[\"r_11\"][1:]\n",
    "    BUR_I = (Z_c_1_eff**2.0)*l*(exp(-k*R_I)/R_I)\n",
    "    BUR_II = (Z_c_1_eff**2.0)*l*(exp(-k*R_II)/R_II)\n",
    "    FR_I = exp(-BUR_I) - 1.0\n",
    "    FR_II = exp(-BUR_II) - 1.0\n",
    "    integral_11 = 0.5*dr*sum(R_I*R_I*GR_I*FR_I + R_II*R_II*GR_II*FR_II)\n",
    "    \n",
    "    #2-2 calculation\n",
    "    GR_I = GR[\"g_22\"][0:-1]\n",
    "    GR_II = GR[\"g_22\"][1:]\n",
    "    R_I = GR[\"r_22\"][0:-1]\n",
    "    R_II = GR[\"r_22\"][1:]\n",
    "    BUR_I = (Z_c_2_eff**2.0)*l*(exp(-k*R_I)/R_I)\n",
    "    BUR_II = (Z_c_2_eff**2.0)*l*(exp(-k*R_II)/R_II)\n",
    "    FR_I = exp(-BUR_I) - 1.0\n",
    "    FR_II = exp(-BUR_II) - 1.0\n",
    "    integral_22 = 0.5*dr*sum(R_I*R_I*GR_I*FR_I + R_II*R_II*GR_II*FR_II)\n",
    "    \n",
    "    #1-2 calculation\n",
    "    GR_I = GR[\"g_12\"][0:-1]\n",
    "    GR_II = GR[\"g_12\"][1:]\n",
    "    R_I = GR[\"r_12\"][0:-1]\n",
    "    R_II = GR[\"r_12\"][1:]\n",
    "    BUR_I = (Z_c_1_eff*Z_c_2_eff)*l*(exp(-k*R_I)/R_I)\n",
    "    BUR_II = (Z_c_1_eff*Z_c_2_eff)*l*(exp(-k*R_II)/R_II)\n",
    "    FR_I = exp(-BUR_I) - 1.0\n",
    "    FR_II = exp(-BUR_II) - 1.0\n",
    "    integral_12 = 0.5*dr*sum(R_I*R_I*GR_I*FR_I + R_II*R_II*GR_II*FR_II)\n",
    "        \n",
    "    return (integral_11, integral_22, integral_12)\n",
    "\n",
    "#############################################################################################\n",
    "\n",
    "@memoized\n",
    "def calculate_f_ex_dlvo(p_c_1, p_c_2, p_pos, p_neg, #state variables\n",
    "                        l, Z_c_1, Z_c_2, d_c_1, d_c_2, #system parameters\n",
    "                        N, dr): #integration parameters\n",
    "    \n",
    "    #calculate various other parameters that make the below expression a little cleaner\n",
    "    #ion variables\n",
    "    p_ions = p_pos + p_neg\n",
    "    s = (2.0*p_pos*p_neg)/p_ions\n",
    "    k = (4.0*pi*l*p_ions)**(1.0/2.0)\n",
    "    #colloid variables\n",
    "    n_c_1 = (pi/6.0)*p_c_1*(d_c_1**3.0)\n",
    "    n_c_2 = (pi/6.0)*p_c_2*(d_c_2**3.0)\n",
    "    n_c = n_c_1 + n_c_2\n",
    "        \n",
    "    #breaking up the various contributions for simplicity\n",
    "    #NOTE: for safety i use integers for the exponents when charges are present to ensure sign preservation\n",
    "    f_ex_dlvo_ion_coord = -((p_c_1*(Z_c_1**2)*(l/d_c_1))*((k*(d_c_1/2.0))/(1.0 + k*(d_c_1/2.0)))\n",
    "                           + (p_c_2*(Z_c_2**2)*(l/d_c_2))*((k*(d_c_2/2.0))/(1.0 + k*(d_c_2/2.0))))\n",
    "    f_ex_dlvo_exc_vol = (n_c*s)/(1.0 - n_c)\n",
    "    f_ex_dlvo_neg_mean_field = -(1.0/2.0)*((4.0*pi*l*((p_c_1*Z_c_1)**2))/(k**2.0)\n",
    "                                           + (4.0*pi*l*((p_c_2*Z_c_2)**2))/(k**2.0)\n",
    "                                           + 2.0*(4.0*pi*l*(p_c_1*Z_c_1*p_c_2*Z_c_2))/(k**2.0))\n",
    "    #calculate perturbation integrals\n",
    "    (c1_c1_perturb_integral, \n",
    "     c2_c2_perturb_integral, \n",
    "     c1_c2_perturb_integral) = calculate_cc_perturb_integrals(p_c_1, p_c_2, k, l, Z_c_1, Z_c_2, d_c_1, d_c_2, N, dr)\n",
    "    \n",
    "    #calculate the mean field dlvo pair contribution us binary hard sphere reference structure\n",
    "    #NOTE: the negative in from of the 1/2 is because i am using a MAYER FUNCTION perturbation expansion\n",
    "    f_ex_dlvo_pair_perturb = -(1.0/2.0)*(4.0*pi*(p_c_1**2.0)*c1_c1_perturb_integral\n",
    "                                           + 4.0*pi*(p_c_2**2.0)*c2_c2_perturb_integral\n",
    "                                           + 2.0*4.0*pi*(p_c_1*p_c_2)*c1_c2_perturb_integral)\n",
    "    \n",
    "    #total DLVO contribution to the free energy\n",
    "    f_ex_dlvo = f_ex_dlvo_ion_coord + f_ex_dlvo_exc_vol + f_ex_dlvo_neg_mean_field + f_ex_dlvo_pair_perturb\n",
    "    \n",
    "    return f_ex_dlvo"
   ]
  },
  {
   "cell_type": "code",
   "execution_count": 244,
   "metadata": {
    "collapsed": false
   },
   "outputs": [
    {
     "data": {
      "text/plain": [
       "-313584783639.64514"
      ]
     },
     "execution_count": 244,
     "metadata": {},
     "output_type": "execute_result"
    }
   ],
   "source": [
    "#variables for transform\n",
    "N = 16384/2\n",
    "dr = 0.002\n",
    "\n",
    "p_c_1 = 12.0 #0.6\n",
    "p_c_2 = 0.6 #0.1\n",
    "\n",
    "p_pos = 0.1\n",
    "p_neg = 0.1\n",
    "\n",
    "Z_c_1 = -10.0\n",
    "Z_c_2 = 10.0\n",
    "\n",
    "l = 0.2364\n",
    "\n",
    "d_c_1 = 0.2\n",
    "d_c_2 = 1.000000001\n",
    "\n",
    "calculate_f_ex_dlvo(p_c_1, p_c_2, p_pos, p_neg, l, Z_c_1, Z_c_2, d_c_1, d_c_2, N, dr)\n"
   ]
  },
  {
   "cell_type": "code",
   "execution_count": null,
   "metadata": {
    "collapsed": true
   },
   "outputs": [],
   "source": [
    "-26.654992398174279"
   ]
  },
  {
   "cell_type": "markdown",
   "metadata": {
    "collapsed": false
   },
   "source": [
    "###Calculates the total free energy of the colloid-polymer-ion system\n",
    "This just calls the four separate free energy functions and adds them all up. \n",
    "\n",
    "Up to this point I have treated the colloid and ions all as separate entities. Formally this is fine but electroneutrality ultimately sets a linear constraint on what combinations of the three charges species are possible.\n",
    "\n",
    "---"
   ]
  },
  {
   "cell_type": "code",
   "execution_count": 246,
   "metadata": {
    "collapsed": false
   },
   "outputs": [],
   "source": [
    "def calculate_f_explicit_ions(p_c_1, p_c_2, p_pos, p_neg, #state variables\n",
    "                              d_c_1, d_c_2, #particle sizes\n",
    "                              l, Z_c_1, Z_c_2, #ionic solution parameters\n",
    "                              N, dr #integration parameters\n",
    "                             ):\n",
    "    \n",
    "    #ideal\n",
    "    f_id = calculate_f_id(p_c_1, p_c_2, p_pos, p_neg, d_c_1, d_c_2)\n",
    "    #excess hs\n",
    "    f_ex_hs = calculate_f_ex_hs(p_c_1, p_c_2, d_c_1, d_c_2)\n",
    "    #excess perturbative dlvo\n",
    "    f_ex_dlvo = calculate_f_ex_dlvo(p_c_1, p_c_2, p_pos, p_neg, l, Z_c_1, Z_c_2, d_c_1, d_c_2, N, dr) \n",
    "    #the whole thing\n",
    "    f = f_id + f_ex_hs + f_ex_dlvo\n",
    "    \n",
    "    return f"
   ]
  },
  {
   "cell_type": "markdown",
   "metadata": {
    "collapsed": true
   },
   "source": [
    "This is an alternative form that expresses the free energy in terms of densities alone by simply referencing the other form--this makes the stability calculation easier to work with."
   ]
  },
  {
   "cell_type": "code",
   "execution_count": 250,
   "metadata": {
    "collapsed": false
   },
   "outputs": [],
   "source": [
    "def calculate_f(p_c_1, p_c_2, p_s, #state variables\n",
    "                d_c_1, d_c_2, #particle sizes\n",
    "                l, Z_c_1, Z_c_2, #ionic solution parameters\n",
    "                N, dr #integration parameters\n",
    "               ):\n",
    "        \n",
    "    #calculate the various densities based on specifying the salt density and the colloid and polymer\n",
    "    p_pos = float(Z_c_1 <= 0.0)*(p_c_1*abs(Z_c_1)) + float(Z_c_2 <= 0.0)*(p_c_2*abs(Z_c_2)) + p_s\n",
    "    p_neg = float(Z_c_1 > 0.0)*(p_c_1*abs(Z_c_1)) + float(Z_c_2 > 0.0)*(p_c_2*abs(Z_c_2)) + p_s\n",
    "        \n",
    "    #sum up the contributions\n",
    "    f = calculate_f_explicit_ions(p_c_1, p_c_2, p_pos, p_neg, d_c_1, d_c_2, l, Z_c_1, Z_c_2, N, dr)\n",
    "\n",
    "    return (f, f/(p_c_1 + p_c_2 + p_pos + p_neg))"
   ]
  },
  {
   "cell_type": "markdown",
   "metadata": {
    "collapsed": true
   },
   "source": [
    "###Function for calculating the stability matrix and its determinant\n",
    "This calculates the determinant of the 3x3 stability matrix for use in finding homogenous phase spinodal limits. The matrix is only 3x3 despite the 4 components due to charge neutrality. The particular choice I make for the matrix is the 3x3 of chemical potential derivatives with respect to the colloid, polymer and salt particle numbers. Also, the **free energy is per V** (not N) as this simplifies the matrix elements.\n",
    "\n",
    "---"
   ]
  },
  {
   "cell_type": "code",
   "execution_count": 269,
   "metadata": {
    "collapsed": false
   },
   "outputs": [],
   "source": [
    "def calculate_stability_determinant(p_c_1, p_c_2, p_s, #state variables\n",
    "                                    d_c_1, d_c_2, #particle sizes\n",
    "                                    l, Z_c_1, Z_c_2, #ionic solution parameters\n",
    "                                    N, dr, #integration parameters\n",
    "                                    min_step #minimum step to use for hessian calculation\n",
    "                                   ):\n",
    "    \n",
    "    #calculate the hessian matrix\n",
    "    hess_steps = nd.MinStepGenerator(base_step=min_step, step_ratio=2.0, num_steps = 2)\n",
    "    calculate_hessian = lambda x: calculate_f(x[0], x[1], x[2], d_c_1, d_c_2, l, Z_c_1, Z_c_2, N, dr)[0]\n",
    "    stability_matrix = nd.Hessian(calculate_hessian, step = hess_steps)([p_c_1, p_c_2, p_s])\n",
    "    \n",
    "    #build the 3x3 stability matrix as a numpy array and calculate the determinant \n",
    "    #logdet is used to avoid issues with a small determinant (such as when an instability is reached)\n",
    "    (sign, logdet) = slogdet(stability_matrix)\n",
    "    stability_determinant = sign*exp(logdet)    \n",
    "        \n",
    "    #return the stability determinant\n",
    "    return (stability_matrix, stability_determinant)"
   ]
  },
  {
   "cell_type": "markdown",
   "metadata": {},
   "source": [
    "**Test to see if stability calculation is even working**"
   ]
  },
  {
   "cell_type": "code",
   "execution_count": 292,
   "metadata": {
    "collapsed": false
   },
   "outputs": [
    {
     "data": {
      "text/plain": [
       "(array([[  5.38610342e-01,   5.80835598e+01,   9.03492037e-03],\n",
       "        [  5.80835598e+01,   5.73518993e+03,   9.08654518e-01],\n",
       "        [  9.03492037e-03,   9.08654518e-01,   5.12007621e-04]]),\n",
       " -0.10493137048997261)"
      ]
     },
     "execution_count": 292,
     "metadata": {},
     "output_type": "execute_result"
    }
   ],
   "source": [
    "#set variables\n",
    "N = 16384/2/2\n",
    "dr = 0.004\n",
    "\n",
    "d_c_1 = 0.2\n",
    "d_c_2 = 1.0\n",
    "\n",
    "n_c_1 = 0.2\n",
    "n_c_2 = 0.03\n",
    "p_s = 4000.0\n",
    "\n",
    "l = 0.2364\n",
    "Z_c_1 = -30.0\n",
    "Z_c_2 = 30.0\n",
    "\n",
    "min_step = 0.002\n",
    "\n",
    "#alternatives\n",
    "p_c_1 = 6.0*n_c_1/(pi*d_c_1**3.0)\n",
    "p_c_2 = 6.0*n_c_2/(pi*d_c_2**3.0)\n",
    "\n",
    "calculate_f(p_c_1, p_c_2, p_s, d_c_1, d_c_2, l, Z_c_1, Z_c_2, N, dr)\n",
    "calculate_stability_determinant(p_c_1, p_c_2, p_s, d_c_1, d_c_2, l, Z_c_1, Z_c_2, N, dr, min_step)"
   ]
  },
  {
   "cell_type": "code",
   "execution_count": null,
   "metadata": {
    "collapsed": true
   },
   "outputs": [],
   "source": [
    "0.10309231480356891"
   ]
  },
  {
   "cell_type": "markdown",
   "metadata": {},
   "source": [
    "###Spinodal calculation from stability matrix\n",
    "This is a grid search that identifies points as being stable or unstable. Both types are passed back in separate arrays that can be plotted together to get a coarse grained view of the underlying phase behavior.\n",
    "\n",
    "---"
   ]
  },
  {
   "cell_type": "code",
   "execution_count": 38,
   "metadata": {
    "collapsed": true
   },
   "outputs": [],
   "source": [
    "#performs grid search and labels each point as stable or unstable\n",
    "def calculate_spinodal(p_c_low, p_c_hi, p_c_inc, p_p_low, p_p_hi, p_p_inc, #state variables for grid search\n",
    "                    p_s, #state variables held fixed\n",
    "                    d_c, d_p, #particle sizes\n",
    "                    l, Z_c, #ionic solution parameters \n",
    "                    R_cp, BA, #interfacial attraction parameters\n",
    "                    min_step #minimum step to use for hessian calculation\n",
    "                    ):\n",
    "    \n",
    "    #lists for storing the grid points classified as stable and unstable \n",
    "    stable = [[],[],[],[],[]]\n",
    "    unstable = [[],[],[],[],[]]\n",
    "    \n",
    "    #sample the grid points\n",
    "    p_c = p_c_low\n",
    "    while p_c < p_c_hi:\n",
    "        p_p = p_p_low\n",
    "        while p_p < p_p_hi:\n",
    "            determinant = calculate_stability_determinant(p_c, p_p, p_s, d_c, d_p, l, Z_c, R_cp, BA, min_step)[1]\n",
    "            if determinant < 0.0:\n",
    "                unstable[0].append(p_c)\n",
    "                unstable[1].append(p_p)\n",
    "                unstable[2].append(p_p/p_c)\n",
    "                unstable[3].append(((pi/6.0)*d_c*d_c*d_c)*p_c)\n",
    "                unstable[4].append(((pi/6.0)*d_p*d_p*d_p)*p_p)\n",
    "            else:\n",
    "                stable[0].append(p_c)\n",
    "                stable[1].append(p_p)\n",
    "                stable[2].append(p_p/p_c)\n",
    "                stable[3].append(((pi/6.0)*d_c*d_c*d_c)*p_c)\n",
    "                stable[4].append(((pi/6.0)*d_p*d_p*d_p)*p_p)\n",
    "            p_p = p_p + p_p_inc\n",
    "            #print p_p\n",
    "        p_c = p_c + p_c_inc\n",
    "        #print p_c\n",
    "    \n",
    "    return (stable, unstable)"
   ]
  },
  {
   "cell_type": "code",
   "execution_count": 59,
   "metadata": {
    "collapsed": false
   },
   "outputs": [],
   "source": [
    "#explicitly finds the spinodal boundary only\n",
    "def calculate_spinodal_boundary_density(p_c_low, p_c_hi, p_c_inc, p_p_low, p_p_hi, p_p_inc, #state variables for grid search\n",
    "                    p_s, #state variables held fixed\n",
    "                    d_c, d_p, #particle sizes\n",
    "                    l, Z_c, #ionic solution parameters \n",
    "                    R_cp, BA, #interfacial attraction parameters\n",
    "                    min_step #minimum step to use for hessian calculation\n",
    "                    ):\n",
    "    \n",
    "    #list for storing the boundary\n",
    "    boundary = [[],[],[],[],[]]\n",
    "    \n",
    "    #sample the grid points\n",
    "    p_p = p_p_low\n",
    "    while p_p < p_p_hi:\n",
    "        p_c = p_c_low\n",
    "        determinant_previous = 0.0001\n",
    "        boundary_count = 0 \n",
    "        while (p_c < p_c_hi) and (boundary_count < 2):\n",
    "            determinant = calculate_stability_determinant(p_c, p_p, p_s, d_c, d_p, l, Z_c, R_cp, BA, min_step)[1]   \n",
    "            if ((determinant < 0.0) and (determinant_previous > 0.0)) or ((determinant > 0.0) and (determinant_previous < 0.0)):\n",
    "                slope = (determinant - determinant_previous)/p_c_inc\n",
    "                intercept = determinant - slope*p_c\n",
    "                p_c_spinodal = -intercept/slope\n",
    "                boundary[0].append(p_c_spinodal)\n",
    "                boundary[1].append(p_p)\n",
    "                boundary[2].append(p_p/p_c_spinodal)\n",
    "                boundary[3].append(((pi/6.0)*d_c*d_c*d_c)*p_c_spinodal)\n",
    "                boundary[4].append(((pi/6.0)*d_p*d_p*d_p)*p_p)\n",
    "                boundary_count = boundary_count + 1\n",
    "            p_c = p_c + p_c_inc\n",
    "            determinant_previous = determinant\n",
    "        p_p = p_p + p_p_inc       \n",
    "        \n",
    "    #sort from smallest to largest\n",
    "    zipped_list = zip(boundary[0][:], boundary[1][:], boundary[2][:], boundary[3][:], boundary[4][:])\n",
    "    boundary[0], boundary[1], boundary[2], boundary[3], boundary[4] = zip(*sorted(zipped_list[:]))\n",
    "    \n",
    "    return boundary"
   ]
  },
  {
   "cell_type": "code",
   "execution_count": 67,
   "metadata": {
    "collapsed": true
   },
   "outputs": [],
   "source": [
    "#explicitly finds the spinodal boundary only\n",
    "def calculate_spinodal_boundary_ratio(p_c_low, p_c_hi, p_c_inc, g_pc_low, g_pc_hi, g_pc_inc, #state variables for grid search\n",
    "                    p_s, #state variables held fixed\n",
    "                    d_c, d_p, #particle sizes\n",
    "                    l, Z_c, #ionic solution parameters \n",
    "                    R_cp, BA, #interfacial attraction parameters\n",
    "                    min_step #minimum step to use for hessian calculation\n",
    "                    ):\n",
    "    \n",
    "    #list for storing the boundary\n",
    "    boundary = [[],[],[],[],[]]\n",
    "    \n",
    "    #sample the grid points\n",
    "    g_pc = g_pc_low\n",
    "    while g_pc < g_pc_hi:\n",
    "        #get initial point manualy\n",
    "        p_c = p_c_low\n",
    "        p_p = g_pc * p_c \n",
    "        determinant_previous = calculate_stability_determinant(p_c, p_p, p_s, d_c, d_p, l, Z_c, R_cp, BA, min_step)[1]\n",
    "        #move on next point\n",
    "        p_c = p_c_low + p_c_inc\n",
    "        boundary_count = 0 \n",
    "        while (p_c < p_c_hi) and (boundary_count < 2):\n",
    "            p_p = g_pc * p_c \n",
    "            determinant = calculate_stability_determinant(p_c, p_p, p_s, d_c, d_p, l, Z_c, R_cp, BA, min_step)[1]\n",
    "            if ((determinant < 0.0) and (determinant_previous > 0.0)) or ((determinant > 0.0) and (determinant_previous < 0.0)):\n",
    "                slope = (determinant - determinant_previous)/p_c_inc\n",
    "                intercept = determinant - slope*p_c\n",
    "                p_c_spinodal = -intercept/slope\n",
    "                p_p_spinodal = g_pc*p_c_spinodal\n",
    "                boundary[0].append(p_c_spinodal)\n",
    "                boundary[1].append(p_p_spinodal)\n",
    "                boundary[2].append(p_p_spinodal/p_c_spinodal)\n",
    "                boundary[3].append(((pi/6.0)*d_c*d_c*d_c)*p_c_spinodal)\n",
    "                boundary[4].append(((pi/6.0)*d_p*d_p*d_p)*p_p_spinodal)\n",
    "                boundary_count = boundary_count + 1\n",
    "            p_c = p_c + p_c_inc\n",
    "            determinant_previous = determinant\n",
    "        g_pc = g_pc + g_pc_inc       \n",
    "        \n",
    "    #sort from smallest to largest\n",
    "    zipped_list = zip(boundary[0][:], boundary[1][:], boundary[2][:], boundary[3][:], boundary[4][:])\n",
    "    boundary[0], boundary[1], boundary[2], boundary[3], boundary[4] = zip(*sorted(zipped_list[:]))\n",
    "    \n",
    "    return boundary"
   ]
  },
  {
   "cell_type": "markdown",
   "metadata": {
    "collapsed": true
   },
   "source": [
    "**Set parameters and calculate the phase diagram**"
   ]
  },
  {
   "cell_type": "code",
   "execution_count": 39,
   "metadata": {
    "collapsed": false
   },
   "outputs": [],
   "source": [
    "#actual experimental parameters (with dimensions of nm)\n",
    "#d_c_exp = 6.6\n",
    "#d_p_exp = 2.2\n",
    "#l_exp = 1.56\n",
    "\n",
    "#parameters\n",
    "d_c = 1.0\n",
    "d_p = 0.45\n",
    "R_cp = 0.01\n",
    "l = 0.2364\n",
    "Z_c = 45.0\n",
    "BA = 0.000000001\n",
    "\n",
    "#colloid\n",
    "n_c_low = 0.015 #0.005\n",
    "n_c_hi = 0.6\n",
    "n_c_inc = 0.015 #0.005\n",
    "#polymer\n",
    "n_p_low = 0.03 #0.01\n",
    "n_p_hi = 10.5\n",
    "n_p_inc = 0.03 #0.01\n",
    "\n",
    "#recalculate in terms of densities\n",
    "p_c_low = 6.0*n_c_low/(pi*d_c*d_c*d_c)\n",
    "p_c_hi = 6.0*n_c_hi/(pi*d_c*d_c*d_c)\n",
    "p_c_inc = 6.0*n_c_inc/(pi*d_c*d_c*d_c)\n",
    "p_p_low = 6.0*n_p_low/(pi*d_p*d_p*d_p)\n",
    "p_p_hi = 6.0*n_p_hi/(pi*d_p*d_p*d_p)\n",
    "p_p_inc = 6.0*n_p_inc/(pi*d_p*d_p*d_p)\n",
    "\n",
    "#salt\n",
    "p_s = 15.00\n",
    "\n",
    "min_step= 0.001 #0.001\n",
    "stable, unstable = calculate_spinodal(p_c_low, p_c_hi, p_c_inc, p_p_low, p_p_hi, p_p_inc, p_s, d_c, d_p, l, Z_c, R_cp, BA, min_step)"
   ]
  },
  {
   "cell_type": "markdown",
   "metadata": {},
   "source": [
    "**Plot the phase diagram**"
   ]
  },
  {
   "cell_type": "code",
   "execution_count": 40,
   "metadata": {
    "collapsed": false
   },
   "outputs": [
    {
     "data": {
      "text/plain": [
       "<matplotlib.text.Text at 0x1b37cfd0>"
      ]
     },
     "execution_count": 40,
     "metadata": {},
     "output_type": "execute_result"
    },
    {
     "data": {
      "image/png": "[encoded data removed]",
      "text/plain": [
       "<matplotlib.figure.Figure at 0x1af9fbe0>"
      ]
     },
     "metadata": {},
     "output_type": "display_data"
    }
   ],
   "source": [
    "#font scpecifications\n",
    "title_font = {'family' : 'arial', 'color'  : 'black', 'weight' : 'heavy','size': 20}\n",
    "axis_label_font = {'family' : 'arial', 'color'  : 'black', 'weight' : 'normal','size': 20}\n",
    "\n",
    "#figure size and tick style\n",
    "plt.rcParams[\"figure.figsize\"] = [6,6]\n",
    "plt.rc('axes',edgecolor='black',linewidth=1)\n",
    "plt.tick_params(which='both', axis='both', color='black', length=4, width=0.5)\n",
    "plt.rcParams['xtick.direction'] = 'in'\n",
    "plt.rcParams['ytick.direction'] = 'in'\n",
    "\n",
    "\n",
    "plt.xlabel('Colloid volume fraction', fontsize=20, fontdict = axis_label_font)\n",
    "plt.ylabel('Polymer volume fraction', fontsize=20, fontdict = axis_label_font)\n",
    "plt.scatter(stable[3], stable[4], c=\"b\", marker=\"s\", s=40, alpha=0.3, linewidths=0.0)\n",
    "plt.scatter(unstable[3],unstable[4], c=\"g\", marker=\"s\", s=40, alpha=0.8, linewidths=0.0)\n",
    "plt.ylim((0,4))\n",
    "plt.xlim((0,0.3))\n",
    "\n",
    "#title and axis labels\n",
    "plt.tick_params(axis='both', labelsize=20)\n",
    "plt.title(\"Stability phase diagram\", y=1.05, fontdict = title_font)\n"
   ]
  },
  {
   "cell_type": "code",
   "execution_count": 56,
   "metadata": {
    "collapsed": false
   },
   "outputs": [
    {
     "data": {
      "text/plain": [
       "<matplotlib.text.Text at 0x2aa0a320>"
      ]
     },
     "execution_count": 56,
     "metadata": {},
     "output_type": "execute_result"
    },
    {
     "data": {
      "image/png": "[encoded data removed]",
      "text/plain": [
       "<matplotlib.figure.Figure at 0x2aeb2710>"
      ]
     },
     "metadata": {},
     "output_type": "display_data"
    }
   ],
   "source": [
    "#font scpecifications\n",
    "title_font = {'family' : 'arial', 'color'  : 'black', 'weight' : 'heavy','size': 20}\n",
    "axis_label_font = {'family' : 'arial', 'color'  : 'black', 'weight' : 'normal','size': 20}\n",
    "\n",
    "#figure size and tick style\n",
    "plt.rcParams[\"figure.figsize\"] = [6,6]\n",
    "plt.rc('axes',edgecolor='black',linewidth=1)\n",
    "plt.tick_params(which='both', axis='both', color='black', length=4, width=0.5)\n",
    "plt.rcParams['xtick.direction'] = 'in'\n",
    "plt.rcParams['ytick.direction'] = 'in'\n",
    "\n",
    "\n",
    "plt.xlabel('Colloid volume fraction', fontsize=20, fontdict = axis_label_font)\n",
    "plt.ylabel('Polymer / Colloid', fontsize=20, fontdict = axis_label_font)\n",
    "plt.scatter(stable[3], stable[2], c=\"b\", marker=\"s\", s=90, alpha=0.3, linewidths=0.0)\n",
    "plt.scatter(unstable[3],unstable[2], c=\"g\", marker=\"s\", s=90, alpha=0.8, linewidths=0.0)\n",
    "plt.ylim((0,200))\n",
    "plt.xlim((0,0.3))\n",
    "\n",
    "#title and axis labels\n",
    "plt.tick_params(axis='both', labelsize=20)\n",
    "plt.title(\"Stability phase diagram\", y=1.05, fontdict = title_font)"
   ]
  },
  {
   "cell_type": "code",
   "execution_count": null,
   "metadata": {
    "collapsed": true
   },
   "outputs": [],
   "source": []
  },
  {
   "cell_type": "code",
   "execution_count": null,
   "metadata": {
    "collapsed": true
   },
   "outputs": [],
   "source": []
  },
  {
   "cell_type": "code",
   "execution_count": 121,
   "metadata": {
    "collapsed": false
   },
   "outputs": [],
   "source": [
    "#parameters\n",
    "d_c = 1.0\n",
    "d_p = 0.33\n",
    "R_cp = 0.01\n",
    "l = 0.2364\n",
    "Z_c = 0.000000001\n",
    "BA = 3.5 #3.5 \n",
    "\n",
    "#colloid\n",
    "n_c_low = 0.005\n",
    "n_c_hi = 0.6\n",
    "n_c_inc = 0.005\n",
    "#polymer\n",
    "n_p_low = 0.02\n",
    "n_p_hi = 3.0\n",
    "n_p_inc = 0.02\n",
    "\n",
    "#recalculate in terms of densities\n",
    "p_c_low = 6.0*n_c_low/(pi*d_c*d_c*d_c)\n",
    "p_c_hi = 6.0*n_c_hi/(pi*d_c*d_c*d_c)\n",
    "p_c_inc = 6.0*n_c_inc/(pi*d_c*d_c*d_c)\n",
    "p_p_low = 6.0*n_p_low/(pi*d_p*d_p*d_p)\n",
    "p_p_hi = 6.0*n_p_hi/(pi*d_p*d_p*d_p)\n",
    "p_p_inc = 6.0*n_p_inc/(pi*d_p*d_p*d_p)\n",
    "\n",
    "#salt\n",
    "p_s = 0.01\n",
    "\n",
    "min_step= 0.001 #0.001\n",
    "boundary = calculate_spinodal_boundary_density(p_c_low, p_c_hi, p_c_inc, p_p_low, p_p_hi, p_p_inc, p_s, d_c, d_p, l, Z_c, R_cp, BA, min_step)"
   ]
  },
  {
   "cell_type": "code",
   "execution_count": 115,
   "metadata": {
    "collapsed": false
   },
   "outputs": [
    {
     "ename": "ValueError",
     "evalue": "need more than 0 values to unpack",
     "output_type": "error",
     "traceback": [
      "\u001b[1;31m---------------------------------------------------------------------------\u001b[0m",
      "\u001b[1;31mValueError\u001b[0m                                Traceback (most recent call last)",
      "\u001b[1;32m<ipython-input-115-a2b65f40a2ec>\u001b[0m in \u001b[0;36m<module>\u001b[1;34m()\u001b[0m\n\u001b[0;32m     26\u001b[0m \u001b[1;31m#perform spinodal calculation\u001b[0m\u001b[1;33m\u001b[0m\u001b[1;33m\u001b[0m\u001b[0m\n\u001b[0;32m     27\u001b[0m \u001b[0mmin_step\u001b[0m\u001b[1;33m=\u001b[0m \u001b[1;36m0.001\u001b[0m \u001b[1;31m#0.001\u001b[0m\u001b[1;33m\u001b[0m\u001b[0m\n\u001b[1;32m---> 28\u001b[1;33m \u001b[0mboundary\u001b[0m \u001b[1;33m=\u001b[0m \u001b[0mcalculate_spinodal_boundary_ratio\u001b[0m\u001b[1;33m(\u001b[0m\u001b[0mp_c_low\u001b[0m\u001b[1;33m,\u001b[0m \u001b[0mp_c_hi\u001b[0m\u001b[1;33m,\u001b[0m \u001b[0mp_c_inc\u001b[0m\u001b[1;33m,\u001b[0m \u001b[0mg_pc_low\u001b[0m\u001b[1;33m,\u001b[0m \u001b[0mg_pc_hi\u001b[0m\u001b[1;33m,\u001b[0m \u001b[0mg_pc_inc\u001b[0m\u001b[1;33m,\u001b[0m \u001b[0mp_s\u001b[0m\u001b[1;33m,\u001b[0m \u001b[0md_c\u001b[0m\u001b[1;33m,\u001b[0m \u001b[0md_p\u001b[0m\u001b[1;33m,\u001b[0m \u001b[0ml\u001b[0m\u001b[1;33m,\u001b[0m \u001b[0mZ_c\u001b[0m\u001b[1;33m,\u001b[0m \u001b[0mR_cp\u001b[0m\u001b[1;33m,\u001b[0m \u001b[0mBA\u001b[0m\u001b[1;33m,\u001b[0m \u001b[0mmin_step\u001b[0m\u001b[1;33m)\u001b[0m\u001b[1;33m\u001b[0m\u001b[0m\n\u001b[0m\u001b[0;32m     29\u001b[0m \u001b[1;33m\u001b[0m\u001b[0m\n\u001b[0;32m     30\u001b[0m \u001b[1;31m#persist via pickle\u001b[0m\u001b[1;33m\u001b[0m\u001b[1;33m\u001b[0m\u001b[0m\n",
      "\u001b[1;32m<ipython-input-67-a7734b02d18e>\u001b[0m in \u001b[0;36mcalculate_spinodal_boundary_ratio\u001b[1;34m(p_c_low, p_c_hi, p_c_inc, g_pc_low, g_pc_hi, g_pc_inc, p_s, d_c, d_p, l, Z_c, R_cp, BA, min_step)\u001b[0m\n\u001b[0;32m     41\u001b[0m     \u001b[1;31m#sort from smallest to largest\u001b[0m\u001b[1;33m\u001b[0m\u001b[1;33m\u001b[0m\u001b[0m\n\u001b[0;32m     42\u001b[0m     \u001b[0mzipped_list\u001b[0m \u001b[1;33m=\u001b[0m \u001b[0mzip\u001b[0m\u001b[1;33m(\u001b[0m\u001b[0mboundary\u001b[0m\u001b[1;33m[\u001b[0m\u001b[1;36m0\u001b[0m\u001b[1;33m]\u001b[0m\u001b[1;33m[\u001b[0m\u001b[1;33m:\u001b[0m\u001b[1;33m]\u001b[0m\u001b[1;33m,\u001b[0m \u001b[0mboundary\u001b[0m\u001b[1;33m[\u001b[0m\u001b[1;36m1\u001b[0m\u001b[1;33m]\u001b[0m\u001b[1;33m[\u001b[0m\u001b[1;33m:\u001b[0m\u001b[1;33m]\u001b[0m\u001b[1;33m,\u001b[0m \u001b[0mboundary\u001b[0m\u001b[1;33m[\u001b[0m\u001b[1;36m2\u001b[0m\u001b[1;33m]\u001b[0m\u001b[1;33m[\u001b[0m\u001b[1;33m:\u001b[0m\u001b[1;33m]\u001b[0m\u001b[1;33m,\u001b[0m \u001b[0mboundary\u001b[0m\u001b[1;33m[\u001b[0m\u001b[1;36m3\u001b[0m\u001b[1;33m]\u001b[0m\u001b[1;33m[\u001b[0m\u001b[1;33m:\u001b[0m\u001b[1;33m]\u001b[0m\u001b[1;33m,\u001b[0m \u001b[0mboundary\u001b[0m\u001b[1;33m[\u001b[0m\u001b[1;36m4\u001b[0m\u001b[1;33m]\u001b[0m\u001b[1;33m[\u001b[0m\u001b[1;33m:\u001b[0m\u001b[1;33m]\u001b[0m\u001b[1;33m)\u001b[0m\u001b[1;33m\u001b[0m\u001b[0m\n\u001b[1;32m---> 43\u001b[1;33m     \u001b[0mboundary\u001b[0m\u001b[1;33m[\u001b[0m\u001b[1;36m0\u001b[0m\u001b[1;33m]\u001b[0m\u001b[1;33m,\u001b[0m \u001b[0mboundary\u001b[0m\u001b[1;33m[\u001b[0m\u001b[1;36m1\u001b[0m\u001b[1;33m]\u001b[0m\u001b[1;33m,\u001b[0m \u001b[0mboundary\u001b[0m\u001b[1;33m[\u001b[0m\u001b[1;36m2\u001b[0m\u001b[1;33m]\u001b[0m\u001b[1;33m,\u001b[0m \u001b[0mboundary\u001b[0m\u001b[1;33m[\u001b[0m\u001b[1;36m3\u001b[0m\u001b[1;33m]\u001b[0m\u001b[1;33m,\u001b[0m \u001b[0mboundary\u001b[0m\u001b[1;33m[\u001b[0m\u001b[1;36m4\u001b[0m\u001b[1;33m]\u001b[0m \u001b[1;33m=\u001b[0m \u001b[0mzip\u001b[0m\u001b[1;33m(\u001b[0m\u001b[1;33m*\u001b[0m\u001b[0msorted\u001b[0m\u001b[1;33m(\u001b[0m\u001b[0mzipped_list\u001b[0m\u001b[1;33m[\u001b[0m\u001b[1;33m:\u001b[0m\u001b[1;33m]\u001b[0m\u001b[1;33m)\u001b[0m\u001b[1;33m)\u001b[0m\u001b[1;33m\u001b[0m\u001b[0m\n\u001b[0m\u001b[0;32m     44\u001b[0m \u001b[1;33m\u001b[0m\u001b[0m\n\u001b[0;32m     45\u001b[0m     \u001b[1;32mreturn\u001b[0m \u001b[0mboundary\u001b[0m\u001b[1;33m\u001b[0m\u001b[0m\n",
      "\u001b[1;31mValueError\u001b[0m: need more than 0 values to unpack"
     ]
    }
   ],
   "source": [
    "#parameters\n",
    "d_c = 1.0\n",
    "d_p = 0.45\n",
    "R_cp = 0.01\n",
    "l = 0.2364\n",
    "Z_c = 45.0\n",
    "BA = 0.000000001 #3.5 #3.5 \n",
    "\n",
    "#colloid\n",
    "n_c_low = 0.01\n",
    "n_c_hi = 0.6\n",
    "n_c_inc = 0.01\n",
    "#polymer\n",
    "g_pc_low = 1.0\n",
    "g_pc_hi = 300.0\n",
    "g_pc_inc = 0.5\n",
    "\n",
    "#recalculate in terms of densities\n",
    "p_c_low = 6.0*n_c_low/(pi*d_c*d_c*d_c)\n",
    "p_c_hi = 6.0*n_c_hi/(pi*d_c*d_c*d_c)\n",
    "p_c_inc = 6.0*n_c_inc/(pi*d_c*d_c*d_c)\n",
    "\n",
    "#salt\n",
    "p_s = 6.00\n",
    "\n",
    "#perform spinodal calculation\n",
    "min_step= 0.001 #0.001\n",
    "boundary = calculate_spinodal_boundary_ratio(p_c_low, p_c_hi, p_c_inc, g_pc_low, g_pc_hi, g_pc_inc, p_s, d_c, d_p, l, Z_c, R_cp, BA, min_step)\n",
    "\n",
    "#persist via pickle\n",
    "filename = \"data\\calculations\\spinodal-d_c=%f-d_p=%f-R_cp=%f-l=%f-Z_c=%f-BA=%f.csv\" % (d_c, d_p, R_cp, l, Z_c, BA)\n",
    "with open(filename, 'wb') as f:\n",
    "    pickle.dump(boundary, f)"
   ]
  },
  {
   "cell_type": "code",
   "execution_count": 114,
   "metadata": {
    "collapsed": false
   },
   "outputs": [
    {
     "data": {
      "text/plain": [
       "<matplotlib.text.Text at 0x2ee4bac8>"
      ]
     },
     "execution_count": 114,
     "metadata": {},
     "output_type": "execute_result"
    },
    {
     "data": {
      "image/png": "[encoded data removed]",
      "text/plain": [
       "<matplotlib.figure.Figure at 0x2ec669e8>"
      ]
     },
     "metadata": {},
     "output_type": "display_data"
    }
   ],
   "source": [
    "#font scpecifications\n",
    "title_font = {'family' : 'arial', 'color'  : 'black', 'weight' : 'heavy','size': 20}\n",
    "axis_label_font = {'family' : 'arial', 'color'  : 'black', 'weight' : 'normal','size': 20}\n",
    "axescolor = '#f6f6f6'\n",
    "\n",
    "#figure size and tick style\n",
    "plt.rcParams[\"figure.figsize\"] = [6,6]\n",
    "plt.rc('axes',edgecolor='black',linewidth=1)\n",
    "plt.tick_params(which='both', axis='both', color='black', length=4, width=0.5)\n",
    "plt.rcParams['xtick.direction'] = 'in'\n",
    "plt.rcParams['ytick.direction'] = 'in'\n",
    "\n",
    "\n",
    "plt.xlabel('Colloid volume fraction', fontsize=20, fontdict = axis_label_font)\n",
    "plt.ylabel('Polymer / Colloid', fontsize=20, fontdict = axis_label_font)\n",
    "#plt.plot(boundary[3], boundary[2], c=\"r\", linestyle = '-', linewidth = 2)\n",
    "plt.scatter(boundary[3], boundary[2], c=\"b\", linestyle = '-', linewidth = 2)\n",
    "plt.ylim((0,200))\n",
    "plt.xlim((0,0.3))\n",
    "\n",
    "#fill in where the instability lies\n",
    "lower_bound = [0.0 for x in range(len(boundary[2]))]\n",
    "upper_bound = [20000000.0 for x in range(len(boundary[2]))]\n",
    "plt.fill_between(boundary[3], boundary[2], lower_bound, alpha=0.5, color='g')\n",
    "#plt.fill_between(boundary[3], upper_bound, lower_bound, alpha=0.5, color='r')\n",
    "\n",
    "#title and axis labels\n",
    "plt.tick_params(axis='both', labelsize=20)\n",
    "plt.title(\"Stability phase diagram\", y=1.05, fontdict = title_font)"
   ]
  },
  {
   "cell_type": "code",
   "execution_count": 86,
   "metadata": {
    "collapsed": false
   },
   "outputs": [],
   "source": [
    "plt.rc?"
   ]
  },
  {
   "cell_type": "markdown",
   "metadata": {},
   "source": [
    "**Read data from file via pickle**"
   ]
  },
  {
   "cell_type": "code",
   "execution_count": 40,
   "metadata": {
    "collapsed": false
   },
   "outputs": [],
   "source": [
    "d_c = 1.0\n",
    "d_p = 0.45\n",
    "R_cp = 0.01\n",
    "l = 0.2364\n",
    "Z_c = 0.000000001\n",
    "BA = 0.000000001\n",
    "\n",
    "filename = \"data\\calculations\\spinodal-d_c=%f-d_p=%f-R_cp=%f-l=%f-Z_c=%f-BA=%f.csv\" % (d_c, d_p, R_cp, l, Z_c, BA)\n",
    "with open(filename, 'rb') as f:\n",
    "    boundary = pickle.load(f)"
   ]
  },
  {
   "cell_type": "markdown",
   "metadata": {},
   "source": [
    "###Extra functions\n",
    "\n",
    "---\n",
    "\n",
    "---\n",
    "\n",
    "---"
   ]
  },
  {
   "cell_type": "markdown",
   "metadata": {},
   "source": [
    "**Sizes**"
   ]
  },
  {
   "cell_type": "code",
   "execution_count": null,
   "metadata": {
    "collapsed": true
   },
   "outputs": [],
   "source": [
    "d_c = 1.0 #diameter of colloid\n",
    "d_p = 0.33 #diameter of the polymer (~2xR_G)"
   ]
  },
  {
   "cell_type": "markdown",
   "metadata": {},
   "source": [
    "**Colloid packing fraction**"
   ]
  },
  {
   "cell_type": "code",
   "execution_count": null,
   "metadata": {
    "collapsed": true
   },
   "outputs": [],
   "source": [
    "n_c = 0.05 #set volume fraction of the colloids"
   ]
  },
  {
   "cell_type": "markdown",
   "metadata": {},
   "source": [
    "**Number of polymers and ions per colloid**"
   ]
  },
  {
   "cell_type": "code",
   "execution_count": null,
   "metadata": {
    "collapsed": true
   },
   "outputs": [],
   "source": [
    "\n",
    "\n",
    "p_c = 6.0*n_c/(pi*d_c*d_c*d_c)\n",
    "p_p = 0.5*p_c\n",
    "p_pos = 10.0*p_c\n",
    "p_neg = 20.0*p_c\n",
    "\n",
    "\n",
    "p = \n",
    "x_c = \n",
    "x_p = \n"
   ]
  },
  {
   "cell_type": "code",
   "execution_count": 10,
   "metadata": {
    "collapsed": false
   },
   "outputs": [
    {
     "name": "stdout",
     "output_type": "stream",
     "text": [
      "hi\n",
      "3\n"
     ]
    }
   ],
   "source": [
    "i=3 \n",
    "\n",
    "def test_func(x):\n",
    "    x = 5\n",
    "    return \"hi\"\n",
    "    \n",
    "print test_func(i)\n",
    "\n",
    "print i"
   ]
  },
  {
   "cell_type": "code",
   "execution_count": 34,
   "metadata": {
    "collapsed": false
   },
   "outputs": [
    {
     "name": "stdout",
     "output_type": "stream",
     "text": [
      "hello\n"
     ]
    }
   ],
   "source": [
    "thingy = \"pp\"\n",
    "if thingy in [\"cc\", \"pp\", \"ss\"]:\n",
    "    print \"hello\"\n"
   ]
  },
  {
   "cell_type": "code",
   "execution_count": null,
   "metadata": {
    "collapsed": true
   },
   "outputs": [],
   "source": []
  },
  {
   "cell_type": "code",
   "execution_count": null,
   "metadata": {
    "collapsed": true
   },
   "outputs": [],
   "source": []
  },
  {
   "cell_type": "code",
   "execution_count": null,
   "metadata": {
    "collapsed": true
   },
   "outputs": [],
   "source": [
    "def calculate_f_ex_int(p, x_c, x_p, #state variables\n",
    "                        d_c, R_G, R_cp, BA, #system parameters\n",
    "                        g_AO #reference structure\n",
    "                        ):\n",
    "    \n",
    "    #some convenient transformations of the various inputs\n",
    "    #n_c = p*x_c*(pi/6.0)*(d_c**3.0)\n",
    "    #n_p = p*x_p*(4.0/3.0)*pi*(R_G**3.0)\n",
    "    #z_cp = ((4.0*R_G)/d_c)/(1.0 + (2.0*R_G)/d_c)\n",
    "    \n",
    "    #AO adjusted contact value\n",
    "    #g_AO = (1.0/(1.0-n_c-n_p)) + (g_HS - 1.0/(1.0-n_c-n_p))*z_cp\n",
    "    \n",
    "    #interfacial free energy contribution\n",
    "    f_ex_int = -4.0*pi*p*x_c*x_p*R_cp*((d_c/2.0 + R_G)**2.0)*g_AO*(exp(BA)-1.0)\n",
    "    \n",
    "    return f_ex_int"
   ]
  },
  {
   "cell_type": "code",
   "execution_count": null,
   "metadata": {
    "collapsed": true
   },
   "outputs": [],
   "source": [
    "def calculate_C(type_1, type_2, type_3)\n",
    "\n",
    "def calculate_B_3(type_1, type_2, type_3, d_c, R_G):\n",
    "    if type_1 == \"c\":\n",
    "        d_1 = d_c\n",
    "\n",
    "\n",
    "def calculate_f_ex_ao(p, x_c, x_p, #state variables\n",
    "                        d_c, R_G #system parameters\n",
    "                      ):\n",
    "    \n",
    "    #the dimensionless 2nd and 3rd hard sphere virial coefficients in 3D\n",
    "    b_2 = 4.0\n",
    "    b_3 = 10.0\n",
    "    \n",
    "    #various c parameters used to calculate the mixture virial coefficients\n",
    "    #colloid terms\n",
    "    C_c_cc = (b_3/b_2)*(d_c**3.0)\n",
    "    C_c_pp = (d_c + 2.0*R_G)**3.0\n",
    "    C_c_cp = (d_c**3.0) + (b_3/b_2 - 1.0)*((4.0*R_G*(d_c**3.0))/(d_c + 2.0*R_G))\n",
    "    #polymer_terms\n",
    "    C_p_cc = ((2.0*R_G)**3.0) + (b_3/b_2 - 1.0)*d_c*((2.0*R_G)**2.0)\n",
    "    C_p_pp = 0.0\n",
    "    C_p_cp = 0.0\n",
    "    \n",
    "    #calculate the various B parameters\n",
    "    \n",
    "    #some convenient transformations of the various inputs\n",
    "    p_c = p*x_c\n",
    "    p_p = p*x_p\n",
    "    X_c = p_c/(p_c + p_p)\n",
    "    X_p = p_p/(p_c + p_p)\n",
    "    n_c = p_c*(pi/6.0)*(d_c**3.0)\n",
    "    n_p = p_p*(4.0/3.0)*pi*(R_G**3.0)\n",
    "    Q = X_c*(d_c**3.0)\n",
    "    \n",
    "    #calculate the reference hard sphere excess free energy\n",
    "    f_ex_hs = calculate_f_ex_hs((n_c + n_p))\n",
    "    \n",
    "    #\n",
    "    f_ex_ao_lower = log(1.0 - n_c - n_p)*((b_3*Q*B_2 - b_2*B_3)/((b_3 - b_2)*(Q**2.0)))\n",
    "    f_ex_ao_upper = f_ex_hs*((B_3 - Q*B_2)/((b_3 - b_2)*(Q**2.0)))"
   ]
  },
  {
   "cell_type": "code",
   "execution_count": null,
   "metadata": {
    "collapsed": true
   },
   "outputs": [],
   "source": [
    "\n",
    "\n",
    "p_c = 6.0*n_c/(pi*d_c*d_c*d_c)\n",
    "p_p = 0.5*p_c\n",
    "p_pos = 10.0*p_c\n",
    "p_neg = 20.0*p_c\n",
    "\n",
    "\n",
    "p = \n",
    "x_c = \n",
    "x_p = \n"
   ]
  },
  {
   "cell_type": "code",
   "execution_count": 39,
   "metadata": {
    "collapsed": false
   },
   "outputs": [
    {
     "data": {
      "text/plain": [
       "True"
      ]
     },
     "execution_count": 39,
     "metadata": {},
     "output_type": "execute_result"
    }
   ],
   "source": [
    "4.0 < [1.0,1.2,1.0]"
   ]
  },
  {
   "cell_type": "code",
   "execution_count": 91,
   "metadata": {
    "collapsed": true
   },
   "outputs": [],
   "source": [
    "nd.Hessian?"
   ]
  },
  {
   "cell_type": "code",
   "execution_count": 102,
   "metadata": {
    "collapsed": false
   },
   "outputs": [],
   "source": [
    "nd.MinStepGenerator?"
   ]
  },
  {
   "cell_type": "code",
   "execution_count": 81,
   "metadata": {
    "collapsed": false
   },
   "outputs": [],
   "source": [
    "nd.MinStepGenerator.base_step=0.00001\n",
    "nd.MinStepGenerator.num_step=2"
   ]
  },
  {
   "cell_type": "code",
   "execution_count": 88,
   "metadata": {
    "collapsed": false
   },
   "outputs": [],
   "source": [
    "nd.core.MinStepGenerator.base_step=0.00001\n",
    "nd.core.MinStepGenerator.num_step=2"
   ]
  },
  {
   "cell_type": "code",
   "execution_count": 87,
   "metadata": {
    "collapsed": false
   },
   "outputs": [
    {
     "ename": "AttributeError",
     "evalue": "type object 'MinStepGenerator' has no attribute 'steps'",
     "output_type": "error",
     "traceback": [
      "\u001b[1;31m---------------------------------------------------------------------------\u001b[0m",
      "\u001b[1;31mAttributeError\u001b[0m                            Traceback (most recent call last)",
      "\u001b[1;32m<ipython-input-87-325f46c8150d>\u001b[0m in \u001b[0;36m<module>\u001b[1;34m()\u001b[0m\n\u001b[1;32m----> 1\u001b[1;33m \u001b[1;32mprint\u001b[0m \u001b[0mnd\u001b[0m\u001b[1;33m.\u001b[0m\u001b[0mMinStepGenerator\u001b[0m\u001b[1;33m.\u001b[0m\u001b[0msteps\u001b[0m\u001b[1;33m\u001b[0m\u001b[0m\n\u001b[0m",
      "\u001b[1;31mAttributeError\u001b[0m: type object 'MinStepGenerator' has no attribute 'steps'"
     ]
    }
   ],
   "source": [
    "print nd.MinStepGenerator.steps"
   ]
  },
  {
   "cell_type": "code",
   "execution_count": 104,
   "metadata": {
    "collapsed": false
   },
   "outputs": [
    {
     "name": "stdout",
     "output_type": "stream",
     "text": [
      "MinStepGenerator(scale=None,use_exact_steps=True,check_num_steps=True,num_steps=None,offset=0,num_extrap=0,step_ratio=2.0,base_step=1e-05)\n",
      "MinStepGenerator(scale=None,use_exact_steps=True,check_num_steps=True,num_steps=None,offset=0,num_extrap=0,step_ratio=2.0,base_step=1e-05)\n"
     ]
    }
   ],
   "source": [
    "hess_steps = nd.MinStepGenerator(base_step=0.00001, step_ratio=2.0)\n",
    "for k in range(2):\n",
    "    print hess_steps"
   ]
  },
  {
   "cell_type": "code",
   "execution_count": null,
   "metadata": {
    "collapsed": true
   },
   "outputs": [],
   "source": [
    "#################################################################################################"
   ]
  },
  {
   "cell_type": "code",
   "execution_count": null,
   "metadata": {
    "collapsed": true
   },
   "outputs": [],
   "source": [
    "def calculate_f_derivatives(element, Dp, p_c, p_p, p_s, d_c, d_p, l, Z_c, R_cp, BA): \n",
    "        \n",
    "    #perform calculations\n",
    "    if element in [\"cc\", \"pp\", \"ss\"]: \n",
    "        if element == \"cc\":\n",
    "            f_bck = calculate_f(p_c - Dp, p_p, p_s, d_c, d_p, l, Z_c, R_cp, BA, \"V\")\n",
    "            f_cen = calculate_f(p_c, p_p, p_s, d_c, d_p, l, Z_c, R_cp, BA, \"V\")\n",
    "            f_frd = calculate_f(p_c + Dp, p_p, p_s, d_c, d_p, l, Z_c, R_cp, BA, \"V\")\n",
    "        elif element == \"pp\":\n",
    "            f_bck = calculate_f(p_c, p_p - Dp, p_s, d_c, d_p, l, Z_c, R_cp, BA, \"V\")\n",
    "            f_cen = calculate_f(p_c, p_p, p_s, d_c, d_p, l, Z_c, R_cp, BA, \"V\")\n",
    "            f_frd = calculate_f(p_c, p_p + Dp, p_s, d_c, d_p, l, Z_c, R_cp, BA, \"V\")\n",
    "        elif element == \"ss\":\n",
    "            f_bck = calculate_f(p_c, p_p, p_s - Dp, d_c, d_p, l, Z_c, R_cp, BA, \"V\")\n",
    "            f_cen = calculate_f(p_c, p_p, p_s, d_c, d_p, l, Z_c, R_cp, BA, \"V\")\n",
    "            f_frd = calculate_f(p_c, p_p, p_s + Dp, d_c, d_p, l, Z_c, R_cp, BA, \"V\")\n",
    "            \n",
    "        d2f_pure = (f_bck - 2.0*f_cen + f_frd) / (Dp**2.0)\n",
    "        return d2f_pure\n",
    "    \n",
    "    elif element in [\"cp\", \"cs\", \"ps\"]:\n",
    "        if element == \"cp\":\n",
    "            f_frd_frd = calculate_f(p_c + Dp, p_p + Dp, p_s, d_c, d_p, l, Z_c, R_cp, BA, \"V\")\n",
    "            f_frd_bck = calculate_f(p_c + Dp, p_p - Dp, p_s, d_c, d_p, l, Z_c, R_cp, BA, \"V\")\n",
    "            f_bck_frd = calculate_f(p_c - Dp, p_p + Dp, p_s, d_c, d_p, l, Z_c, R_cp, BA, \"V\")\n",
    "            f_bck_bck = calculate_f(p_c - Dp, p_p - Dp, p_s, d_c, d_p, l, Z_c, R_cp, BA, \"V\")\n",
    "        elif element == \"cs\":\n",
    "            f_frd_frd = calculate_f(p_c + Dp, p_p, p_s + Dp, d_c, d_p, l, Z_c, R_cp, BA, \"V\")\n",
    "            f_frd_bck = calculate_f(p_c + Dp, p_p, p_s - Dp, d_c, d_p, l, Z_c, R_cp, BA, \"V\")\n",
    "            f_bck_frd = calculate_f(p_c - Dp, p_p, p_s + Dp, d_c, d_p, l, Z_c, R_cp, BA, \"V\")\n",
    "            f_bck_bck = calculate_f(p_c - Dp, p_p, p_s - Dp, d_c, d_p, l, Z_c, R_cp, BA, \"V\")\n",
    "        elif element == \"ps\":\n",
    "            f_frd_frd = calculate_f(p_c, p_p + Dp, p_s + Dp, d_c, d_p, l, Z_c, R_cp, BA, \"V\")\n",
    "            f_frd_bck = calculate_f(p_c, p_p + Dp, p_s - Dp, d_c, d_p, l, Z_c, R_cp, BA, \"V\")\n",
    "            f_bck_frd = calculate_f(p_c, p_p - Dp, p_s + Dp, d_c, d_p, l, Z_c, R_cp, BA, \"V\")\n",
    "            f_bck_bck = calculate_f(p_c, p_p - Dp, p_s - Dp, d_c, d_p, l, Z_c, R_cp, BA, \"V\")\n",
    "            \n",
    "        d2f_mixed = (f_frd_frd - f_frd_bck - f_bck_frd + f_bck_bck) / (4.0*(Dp**2.0))\n",
    "        return d2f_mixed\n",
    "    \n",
    "    else:\n",
    "        raise ValueError('Stability matrix element type not found')    "
   ]
  },
  {
   "cell_type": "code",
   "execution_count": null,
   "metadata": {
    "collapsed": true
   },
   "outputs": [],
   "source": [
    "def calculate_stability_determinant(Dp, p_c, p_p, p_s, #state variables\n",
    "                                    d_c, d_p, #particle sizes\n",
    "                                    l, Z_c, #ionic solution parameters \n",
    "                                    R_cp, BA #interfacial attraction parameters\n",
    "                                   ):\n",
    "    \n",
    "    #check to make sure the numerical derivative is defined\n",
    "    if((Dp < p_c) and (Dp < p_p) and (Dp < p_s)):\n",
    "    \n",
    "        #the six double derivatives (3 same and 3 mixed)\n",
    "            #same\n",
    "        d2f_cc = calculate_f_derivatives(\"cc\", Dp, p_c, p_p, p_s, d_c, d_p, l, Z_c, R_cp, BA)\n",
    "        d2f_pp = calculate_f_derivatives(\"pp\", Dp, p_c, p_p, p_s, d_c, d_p, l, Z_c, R_cp, BA)\n",
    "        d2f_ss = calculate_f_derivatives(\"ss\", Dp, p_c, p_p, p_s, d_c, d_p, l, Z_c, R_cp, BA)\n",
    "            #mixed\n",
    "        d2f_cp = calculate_f_derivatives(\"cp\", Dp, p_c, p_p, p_s, d_c, d_p, l, Z_c, R_cp, BA)\n",
    "        d2f_cs = calculate_f_derivatives(\"cs\", Dp, p_c, p_p, p_s, d_c, d_p, l, Z_c, R_cp, BA)\n",
    "        d2f_ps = calculate_f_derivatives(\"ps\", Dp, p_c, p_p, p_s, d_c, d_p, l, Z_c, R_cp, BA)\n",
    "            #using symmetry\n",
    "        d2f_pc = d2f_cp\n",
    "        d2f_sc = d2f_cs\n",
    "        d2f_sp = d2f_ps\n",
    "    \n",
    "        #build the 3x3 stability matrix as a numpy array and calculate the determinant \n",
    "        #logdet is used to avoid issues with a small determinant (such as when an instability is reached)\n",
    "        stability_matrix = array([[d2f_cc, d2f_cp, d2f_cs], [d2f_pc, d2f_pp, d2f_ps], [d2f_sc, d2f_sp, d2f_ss]])\n",
    "        (sign, logdet) = slogdet(stability_matrix)\n",
    "        stability_determinant = sign*exp(logdet)\n",
    "        \n",
    "        #return the stability determinant\n",
    "        return (stability_matrix, stability_determinant)\n",
    "        #return (stability_matrix, det(stability_matrix))\n",
    "    \n",
    "    #if the derivative is not defined the return a characteristic number for easy identification\n",
    "    else:\n",
    "        return 12345678910"
   ]
  },
  {
   "cell_type": "code",
   "execution_count": 61,
   "metadata": {
    "collapsed": false
   },
   "outputs": [
    {
     "ename": "ValueError",
     "evalue": "negative number cannot be raised to a fractional power",
     "output_type": "error",
     "traceback": [
      "\u001b[1;31m---------------------------------------------------------------------------\u001b[0m",
      "\u001b[1;31mValueError\u001b[0m                                Traceback (most recent call last)",
      "\u001b[1;32m<ipython-input-61-93855e21f927>\u001b[0m in \u001b[0;36m<module>\u001b[1;34m()\u001b[0m\n\u001b[1;32m----> 1\u001b[1;33m \u001b[1;33m(\u001b[0m\u001b[1;33m-\u001b[0m\u001b[1;36m8.0\u001b[0m\u001b[1;33m)\u001b[0m\u001b[1;33m**\u001b[0m\u001b[1;33m(\u001b[0m\u001b[1;36m1.\u001b[0m\u001b[1;33m/\u001b[0m\u001b[1;36m3\u001b[0m\u001b[1;33m)\u001b[0m\u001b[1;33m\u001b[0m\u001b[0m\n\u001b[0m",
      "\u001b[1;31mValueError\u001b[0m: negative number cannot be raised to a fractional power"
     ]
    }
   ],
   "source": [
    "(-8.0)**(1./3)"
   ]
  },
  {
   "cell_type": "code",
   "execution_count": null,
   "metadata": {
    "collapsed": true
   },
   "outputs": [],
   "source": [
    "######################################################################"
   ]
  },
  {
   "cell_type": "code",
   "execution_count": 45,
   "metadata": {
    "collapsed": true
   },
   "outputs": [],
   "source": [
    "def calculate_f_ex_ao_pure(p_c, p_p, #state variables\n",
    "                        d_c, d_p #system parameters\n",
    "                      ):\n",
    "    \n",
    "    vol = (d_c/2.0 + d_p/2.0)**3.0\n",
    "    \n",
    "    #calculate the needed densities\n",
    "    p = p_c + p_p\n",
    "    x_c = p_c/p\n",
    "    x_p = p_p/p\n",
    "    R_G = d_p/2.0\n",
    "    \n",
    "    #the effective volume fraction for use in the carnahan starling free energy\n",
    "    n_eff = (pi/6.0)*(p_c/(p_c + p_p))*(p_c*(d_c**3.0) + p_p*((d_c/2.0 + R_G)**3.0))\n",
    "    \n",
    "    #modified carnahan starling free energy\n",
    "    f_ex_ao = x_c*log(x_c) + x_p*log(x_p) + log(p*vol) - 1.0 + (-3.0 + 2.0/(1.0 - n_eff) + 1.0/((1.0 - n_eff)**2.0))\n",
    "    \n",
    "    return (p*f_ex_ao)"
   ]
  },
  {
   "cell_type": "code",
   "execution_count": 25,
   "metadata": {
    "collapsed": true
   },
   "outputs": [],
   "source": [
    "def calculate_f_ex_ao_fv(p_c, p_p, #state variables\n",
    "                        d_c, d_p #system parameters\n",
    "                      ):\n",
    "    \n",
    "    vol = (d_c/2.0 + d_p/2.0)**3.0\n",
    "    \n",
    "    #calculate the needed densities\n",
    "    n_c = (pi/6.0)*(d_c**3.0)*p_c\n",
    "    \n",
    "    #ratio\n",
    "    q = d_p/d_c\n",
    "    \n",
    "    #some params\n",
    "    A = 3.0*q + 3.0*(q**2.0) + q**3.0\n",
    "    B = (9.0/2.0)*(q**2.0) + 3.0*(q**3.0)\n",
    "    C = 3.0*(q**3.0)\n",
    "    \n",
    "    #modified carnahan starling free energy\n",
    "    f_hs_ex = p_c*(-3.0 + 2.0/(1.0 - n_c) + 1.0/((1.0 - n_c)**2.0))\n",
    "    f_hs = p_c*log(p_c) - p_c + f_hs_ex\n",
    "    f_ao_id = p_p*log(p_p) - p_p\n",
    "    w = -log(1.0 - n_c) + A*(n_c/(1.0 - n_c)) + B*((n_c/(1.0 - n_c))**2.0) + C*((n_c/(1.0 - n_c))**3.0) \n",
    "    f_ex_ao = p_p*w\n",
    "    \n",
    "    f_ao = f_hs + f_ao_id + f_ex_ao\n",
    "    \n",
    "    return f_ao"
   ]
  },
  {
   "cell_type": "code",
   "execution_count": 99,
   "metadata": {
    "collapsed": true
   },
   "outputs": [],
   "source": [
    "def calculate_stability_determinant_ao_pure(p_c, p_p, #state variables\n",
    "                                            d_c, d_p, #particle sizes\n",
    "                                            min_step #minimum step to use for hessian calculation\n",
    "                                           ):\n",
    "    \n",
    "    #calculate the hessian matrix\n",
    "    hess_steps = nd.MinStepGenerator(base_step=min_step, step_ratio=2.0, num_steps = 3)\n",
    "    calculate_hessian = lambda x: calculate_f_ex_ao_fv(x[0], x[1], d_c, d_p)\n",
    "    stability_matrix = nd.Hessian(calculate_hessian, step = hess_steps)([p_c, p_p])\n",
    "    \n",
    "    #build the 3x3 stability matrix as a numpy array and calculate the determinant \n",
    "    #logdet is used to avoid issues with a small determinant (such as when an instability is reached)\n",
    "    (sign, logdet) = slogdet(stability_matrix)\n",
    "    #stability_determinant = sign*exp(logdet)\n",
    "    #stability_determinant = sign*(exp(logdet)**(1.0/3.0))\n",
    "    stability_determinant = det(stability_matrix)\n",
    "        \n",
    "    #return the stability determinant\n",
    "    return (stability_matrix, stability_determinant)\n",
    "    #return (stability_matrix, det(stability_matrix))"
   ]
  },
  {
   "cell_type": "code",
   "execution_count": 101,
   "metadata": {
    "collapsed": false
   },
   "outputs": [
    {
     "name": "stdout",
     "output_type": "stream",
     "text": [
      "0.045\n",
      "(array([[ 117.21631256,    6.09887854],\n",
      "       [   6.09887854,    0.31415926]]), -0.37172883369891219)\n"
     ]
    }
   ],
   "source": [
    "d_c = 1.0 #1.0\n",
    "d_p = 0.3 #0.3\n",
    "\n",
    "n_c = 0.5\n",
    "n_p = 0.045\n",
    "\n",
    "p_c = 6.0*n_c/(pi*d_c*d_c*d_c)\n",
    "p_p = 6.0*n_p/(pi*d_p*d_p*d_p)\n",
    "\n",
    "min_step= 0.001\n",
    "\n",
    "print (pi/6.0)*p_p*(d_p**3.0)\n",
    "\n",
    "print calculate_stability_determinant_ao_pure(p_c, p_p, d_c, d_p, min_step)\n"
   ]
  },
  {
   "cell_type": "code",
   "execution_count": 103,
   "metadata": {
    "collapsed": false
   },
   "outputs": [
    {
     "name": "stdout",
     "output_type": "stream",
     "text": [
      "2.33917816195\n",
      "165.463007665\n",
      "0.0477464829276\n",
      "3465.44912881\n"
     ]
    }
   ],
   "source": [
    "d_c = 1.0 #1.0\n",
    "d_p = 0.3 #0.3\n",
    "\n",
    "n_c = 0.025\n",
    "\n",
    "t_1 = 1.0 - n_c\n",
    "t_2 = 1.0 + 2.0*n_c\n",
    "q = d_p/d_c\n",
    "\n",
    "n_p_s = (((t_1**4.0)*t_2)/n_c)/(12.0*(t_1**3.0) + 15.0*q*(t_1**2.0)*t_2 + 6.0*(q**2.0)*t_1*(t_2**2.0) + (q**3.0)*(t_2**3.0))\n",
    "print n_p_s\n",
    "print 6.0*n_p_s/(pi*d_p*d_p*d_p)\n",
    "print 6.0*n_c/(pi*d_c*d_c*d_c)\n",
    "print (6.0*n_p_s/(pi*d_p*d_p*d_p)) / (6.0*n_c/(pi*d_c*d_c*d_c))"
   ]
  },
  {
   "cell_type": "code",
   "execution_count": null,
   "metadata": {
    "collapsed": true
   },
   "outputs": [],
   "source": []
  },
  {
   "cell_type": "code",
   "execution_count": null,
   "metadata": {
    "collapsed": true
   },
   "outputs": [],
   "source": [
    "    a = stability_matrix[0][0]\n",
    "    b = stability_matrix[0][1]\n",
    "    c = stability_matrix[0][2]\n",
    "    d = stability_matrix[1][1]\n",
    "    e = stability_matrix[1][2]\n",
    "    f = stability_matrix[2][2]\n",
    "    \n",
    "    stability_determinant = a*(d*f - e*e) + b*(c*e - b*f) + c*(b*e - d*c)"
   ]
  },
  {
   "cell_type": "code",
   "execution_count": null,
   "metadata": {
    "collapsed": true
   },
   "outputs": [],
   "source": [
    "#takes as input the desired volume fraction and the gr data in dataframe format\n",
    "#and linearly interpolates between the two nearest stored volume fractions\n",
    "def calculate_rdf(eta, d):\n",
    "    global rdf_current #need to make this global since we need to modify it\n",
    "    rdf = pd.DataFrame()\n",
    "    \n",
    "    if eta in rdf_current.columns: #use the stored version so as to not compute it more than needed\n",
    "        rdf[\"gr\"] = rdf_current[eta]\n",
    "        rdf[\"r\"] = d*rdf_data[\"r\"]\n",
    "        return rdf\n",
    "    else: #empty out the stored rdf and generate a new one\n",
    "        rdf_current = pd.DataFrame()\n",
    "        eta_inc = rdf_data.columns[1] #store the eta increment\n",
    "        eta_max = rdf_data.columns[-2] #store the maximum eta to check if overstepped\n",
    "        upper_index = int(eta / eta_inc) + 1 #for storing the nearest low and high volume fractions\n",
    "        lower_index = int(eta / eta_inc)\n",
    "        if eta >= eta_max:\n",
    "            print \"error: eta is too large to calculate!\"\n",
    "            return rdf\n",
    "        try:\n",
    "            eta_upper = rdf_data.columns[upper_index] #grab the lower and upper packing fractions for interpolation\n",
    "            eta_lower = rdf_data.columns[lower_index]\n",
    "        except:\n",
    "            print \"error: something went wrong with rdf calculation!\"\n",
    "            return rdf\n",
    "        #create the interpolated rdf\n",
    "        rdf[\"gr\"] = ((eta_upper - eta)/(eta_upper - eta_lower))*rdf_data[eta_lower] + ((eta - eta_lower)/(eta_upper - eta_lower))*rdf_data[eta_upper]\n",
    "        rdf[\"r\"] = d*rdf_data[\"r\"]\n",
    "        rdf_current[eta] = rdf[\"gr\"][:]\n",
    "        return rdf"
   ]
  },
  {
   "cell_type": "code",
   "execution_count": null,
   "metadata": {
    "collapsed": true
   },
   "outputs": [],
   "source": []
  },
  {
   "cell_type": "markdown",
   "metadata": {},
   "source": [
    "###RETIRED FUNCTIONS STORED HERE"
   ]
  },
  {
   "cell_type": "markdown",
   "metadata": {},
   "source": [
    "###Calculate the effective volume fraction factor according to Hamad's theory to get effective RDF to be used for the two perturbative free energy terms\n",
    "\n",
    "---"
   ]
  },
  {
   "cell_type": "code",
   "execution_count": null,
   "metadata": {
    "collapsed": true
   },
   "outputs": [],
   "source": [
    "#evaluate the volume fraction factor for calculating the colloid-colloid AO RDF\n",
    "def calculate_n_scale(components, p_c, p_p, #state variables  \n",
    "                   d_c, d_p #system parameters\n",
    "                  ):\n",
    "    \n",
    "    #set the needed parameters to compute the scale parameter\n",
    "    b_2 = 4.0\n",
    "    b_3 = 10.0\n",
    "    Q = p_c*(d_c**3.0)\n",
    "    \n",
    "    #detect if for colloid-colloid or colloid-polymer\n",
    "    #note: the x_c and x_p used should technically should sum to unity\n",
    "    #but it does not matter due to the division step (see Santos paper for definitions)\n",
    "    if components == \"cc\":\n",
    "        C_c_cc = (b_3/b_2)*(d_c**3.0)\n",
    "        C_p_cc = (d_p**3.0) + (b_3/b_2 - 1.0)*d_c*(d_p**2.0)\n",
    "        w_cc = (b_2/b_3)*(p_c*C_c_cc + p_p*C_p_cc)/Q\n",
    "        return w_cc\n",
    "    elif components == \"cp\":\n",
    "        C_c_cp = (d_c**3.0) + (b_3/b_2 - 1.0)*((2.0*d_p*(d_c**3.0))/(d_c + d_p))\n",
    "        C_p_cp = 0.0\n",
    "        w_cp = (b_2/b_3)*(p_c*C_c_cp + p_p*C_p_cp)/Q\n",
    "        return w_cp\n",
    "    \n",
    "    #return a zero if no coded type used\n",
    "    return 0"
   ]
  },
  {
   "cell_type": "markdown",
   "metadata": {},
   "source": [
    "**Checking for scale invariance DLVO**"
   ]
  },
  {
   "cell_type": "code",
   "execution_count": null,
   "metadata": {
    "collapsed": true
   },
   "outputs": [],
   "source": [
    "d_c = 1.0\n",
    "d_p = 0.30\n",
    "l = 0.1 \n",
    "Z_c = 100.0\n",
    "\n",
    "n_c = 0.025\n",
    "\n",
    "p_c = 6.0*n_c/(pi*d_c*d_c*d_c)\n",
    "p_p = 0.5*p_c\n",
    "p_pos = 10.0*p_c\n",
    "p_neg = 20.0*p_c\n",
    "p = p_c + p_p + p_pos + p_neg\n",
    "\n",
    "#(OLD VALUES FOR 1/N f CALC)\n",
    "#p = p_c + p_p + p_pos + p_neg\n",
    "#x_c = p_c/p\n",
    "#x_p = p_p/p\n",
    "#x_pos = p_pos/p\n",
    "#x_neg = p_neg/p\n",
    "\n",
    "#calculate the free energy contribution\n",
    "calculate_f_ex_dlvo(p_c, p_pos, p_neg, l, Z_c, d_c, d_p)/p #(NEED 1/p TO COMPARE TO OLD VALUES)\n",
    "#-17.67148544525654 (OLD VALUE WITH NO PERT)\n",
    "#-18.025917790970816 (OLD VALUE WITH PERT)"
   ]
  },
  {
   "cell_type": "markdown",
   "metadata": {},
   "source": [
    "**Checking for scale invariance INT**"
   ]
  },
  {
   "cell_type": "code",
   "execution_count": null,
   "metadata": {
    "collapsed": true
   },
   "outputs": [],
   "source": [
    "d_c = 1.0 #1.0\n",
    "d_p = 0.30 #0.3\n",
    "R_cp = 0.01 #0.05\n",
    "BA = 13.0\n",
    "\n",
    "n_c = 0.025\n",
    "\n",
    "p_c = 6.0*n_c/(pi*d_c*d_c*d_c)\n",
    "p_p = 0.5*p_c\n",
    "p_pos = 10.0*p_c\n",
    "p_neg = 20.0*p_c\n",
    "\n",
    "p = p_c + p_p + p_pos + p_neg\n",
    "x_c = p_c/p\n",
    "x_p = p_p/p\n",
    "x_pos = p_pos/p\n",
    "x_neg = p_neg/p\n",
    "\n",
    "\n",
    "calculate_f_ex_int(p_c, p_p, d_c, d_p, R_cp, BA)/p\n",
    "\n",
    "#-18.577585661644907 (OLD VALUE)"
   ]
  },
  {
   "cell_type": "markdown",
   "metadata": {},
   "source": [
    "**Checking for scale invariance AO**"
   ]
  },
  {
   "cell_type": "code",
   "execution_count": null,
   "metadata": {
    "collapsed": true
   },
   "outputs": [],
   "source": [
    "d_c = 5.0 #1.0\n",
    "d_p = 1.5 #0.3\n",
    "\n",
    "n_c = 0.4\n",
    "n_p = 0.108\n",
    "\n",
    "p_c = 6.0*n_c/(pi*d_c*d_c*d_c)\n",
    "p_p = 6.0*n_p/(pi*d_p*d_p*d_p)\n",
    "\n",
    "calculate_f_ex_ao(p_c, p_p, #state variables\n",
    "                      d_c, d_p #system parameters\n",
    "                      )/(p_c + p_p)\n",
    "\n",
    "#1.6908515771610024"
   ]
  },
  {
   "cell_type": "code",
   "execution_count": null,
   "metadata": {
    "collapsed": true
   },
   "outputs": [],
   "source": []
  },
  {
   "cell_type": "code",
   "execution_count": null,
   "metadata": {
    "collapsed": true
   },
   "outputs": [],
   "source": []
  },
  {
   "cell_type": "code",
   "execution_count": null,
   "metadata": {
    "collapsed": true
   },
   "outputs": [],
   "source": []
  },
  {
   "cell_type": "code",
   "execution_count": null,
   "metadata": {
    "collapsed": true
   },
   "outputs": [],
   "source": [
    "def calculate_spinodal_boundary(p_c_low, p_c_hi, p_c_inc, p_p_low, p_p_hi, p_p_inc, #state variables for grid search\n",
    "                    p_s, #state variables held fixed\n",
    "                    d_c, d_p, #particle sizes\n",
    "                    l, Z_c, #ionic solution parameters \n",
    "                    R_cp, BA, #interfacial attraction parameters\n",
    "                    min_step #minimum step to use for hessian calculation\n",
    "                    ):\n",
    "    \n",
    "    #list for storing the boundary\n",
    "    boundary = [[],[],[]]\n",
    "    \n",
    "    #sample the grid points\n",
    "    p_p = p_p_low\n",
    "    while p_p < p_p_hi:\n",
    "        p_c = p_c_low\n",
    "        determinant_previous = 0.0001\n",
    "        while p_c < p_c_hi:\n",
    "            determinant = calculate_stability_determinant(p_c, p_p, p_s, d_c, d_p, l, Z_c, R_cp, BA, min_step)[1]\n",
    "            if (determinant < 0.0) and (determinant_previous > 0.0):\n",
    "                boundary[1].append(p_p)\n",
    "                boundary[2].append(p_p/p_c)\n",
    "                slope = (determinant - determinant_previous)/p_c_inc\n",
    "                intercept = determinant - slope*p_c\n",
    "                p_c_spinodal = -intercept/slope\n",
    "                boundary[0].append(p_c_spinodal)\n",
    "                break\n",
    "            p_c = p_c + p_c_inc\n",
    "            determinant_previous = determinant\n",
    "        p_p = p_p + p_p_inc\n",
    "    \n",
    "    return boundary"
   ]
  },
  {
   "cell_type": "code",
   "execution_count": null,
   "metadata": {
    "collapsed": true
   },
   "outputs": [],
   "source": [
    "#this is the up-down version\n",
    "def calculate_spinodal_boundary(p_c_low, p_c_hi, p_c_inc, p_p_low, p_p_hi, p_p_inc, #state variables for grid search\n",
    "                    p_s, #state variables held fixed\n",
    "                    d_c, d_p, #particle sizes\n",
    "                    l, Z_c, #ionic solution parameters \n",
    "                    R_cp, BA, #interfacial attraction parameters\n",
    "                    min_step #minimum step to use for hessian calculation\n",
    "                    ):\n",
    "    \n",
    "    #lists for storing the grid points classified as stable and unstable \n",
    "    boundary = [[],[],[]]\n",
    "    \n",
    "    #sample the grid points\n",
    "    p_c = p_c_low\n",
    "    while p_c < p_c_hi:\n",
    "        p_p = p_p_low\n",
    "        determinant_previous = 0.0001\n",
    "        while p_p < p_p_hi:\n",
    "            determinant = calculate_stability_determinant(p_c, p_p, p_s, d_c, d_p, l, Z_c, R_cp, BA, min_step)[1]\n",
    "            if (determinant < 0.0) and (determinant_previous > 0.0):\n",
    "                boundary[0].append(p_c)\n",
    "                slope = (determinant - determinant_previous)/p_p_inc\n",
    "                intercept = determinant - slope*p_p\n",
    "                p_p_spinodal = -intercept/slope\n",
    "                boundary[1].append(p_p_spinodal)\n",
    "                boundary[2].append(p_p_spinodal/p_c)\n",
    "                break\n",
    "            p_p = p_p + p_p_inc\n",
    "            determinant_previous = determinant\n",
    "        p_c = p_c + p_c_inc\n",
    "    \n",
    "    return boundary"
   ]
  },
  {
   "cell_type": "code",
   "execution_count": null,
   "metadata": {
    "collapsed": true
   },
   "outputs": [],
   "source": []
  },
  {
   "cell_type": "code",
   "execution_count": null,
   "metadata": {
    "collapsed": true
   },
   "outputs": [],
   "source": []
  },
  {
   "cell_type": "code",
   "execution_count": 27,
   "metadata": {
    "collapsed": true
   },
   "outputs": [],
   "source": [
    "#loop to be parallelized for incrementing over colloid density\n",
    "def iterate_over_c(p_c_low, p_c_hi, p_c_inc, g_pc, #state variables for grid search\n",
    "                    p_s, #state variables held fixed\n",
    "                    d_c, d_p, #particle sizes\n",
    "                    l, Z_c, #ionic solution parameters \n",
    "                    R_cp, BA, #interfacial attraction parameters\n",
    "                    min_step #minimum step to use for hessian calculation\n",
    "                    ):\n",
    "    \n",
    "    boundary = [[],[],[],[],[]]\n",
    "    \n",
    "    p_c = p_c_low\n",
    "    determinant_previous = 0.0001\n",
    "    while p_c < p_c_hi:\n",
    "            p_p = g_pc * p_c \n",
    "            determinant = calculate_stability_determinant(p_c, p_p, p_s, d_c, d_p, l, Z_c, R_cp, BA, min_step)[1]\n",
    "            if (determinant < 0.0) and (determinant_previous > 0.0):\n",
    "                slope = (determinant - determinant_previous)/p_c_inc\n",
    "                intercept = determinant - slope*p_c\n",
    "                p_c_spinodal = -intercept/slope\n",
    "                p_p_spinodal = g_pc*p_c_spinodal\n",
    "                boundary[0].append(p_c_spinodal)\n",
    "                boundary[1].append(p_p_spinodal)\n",
    "                boundary[2].append(p_p_spinodal/p_c_spinodal)\n",
    "                boundary[3].append(((pi/6.0)*d_c*d_c*d_c)*p_c_spinodal)\n",
    "                boundary[4].append(((pi/6.0)*d_p*d_p*d_p)*p_p_spinodal)\n",
    "            elif (determinant > 0.0) and (determinant_previous < 0.0):\n",
    "                slope = (determinant - determinant_previous)/p_c_inc\n",
    "                intercept = determinant - slope*p_c\n",
    "                p_c_spinodal = -intercept/slope\n",
    "                p_p_spinodal = g_pc*p_c_spinodal\n",
    "                boundary[0].append(p_c_spinodal)\n",
    "                boundary[1].append(p_p_spinodal)\n",
    "                boundary[2].append(p_p_spinodal/p_c_spinodal)\n",
    "                boundary[3].append(((pi/6.0)*d_c*d_c*d_c)*p_c_spinodal)\n",
    "                boundary[4].append(((pi/6.0)*d_p*d_p*d_p)*p_p_spinodal)\n",
    "                break\n",
    "                \n",
    "    return boundary\n",
    "\n",
    "\n",
    "class iterate_over_c_class(object):\n",
    "    def __init__(self, p_c_low, p_c_hi, p_c_inc, p_s, d_c, d_p, l, Z_c, R_cp, BA, min_step):\n",
    "        self.p_c_low = p_c_low\n",
    "        self.p_c_hi = p_c_hi\n",
    "        self.p_c_inc = p_c_inc\n",
    "        self.p_s = p_s\n",
    "        self.d_c = d_c\n",
    "        self.d_p = d_p\n",
    "        self.l = l\n",
    "        self.Z_c = Z_c\n",
    "        self.R_cp = R_cp\n",
    "        self.BA = BA\n",
    "        self.min_step = min_step\n",
    "    def __call__(self, src):\n",
    "        iterate_over_c(self.p_c_low, self.p_c_hi, self.p_c_inc, src, self.p_s, self.d_c, self.d_p, self.l, self.Z_c, self.R_cp, self.BA, self.min_step)\n",
    "\n",
    "\n",
    "\n",
    "#explicitly finds the spinodal boundary only\n",
    "def calculate_spinodal_boundary_ratio_parallelized(p_c_low, p_c_hi, p_c_inc, g_pc_low, g_pc_hi, g_pc_inc, #state variables for grid search\n",
    "                    p_s, #state variables held fixed\n",
    "                    d_c, d_p, #particle sizes\n",
    "                    l, Z_c, #ionic solution parameters \n",
    "                    R_cp, BA, #interfacial attraction parameters\n",
    "                    min_step #minimum step to use for hessian calculation\n",
    "                    ):\n",
    "    \n",
    "    #fetch a pool of workers\n",
    "    num_processors = 3\n",
    "    pool = Pool(num_processors)\n",
    "    \n",
    "    #create polymer/colloid ratio list to iterate over via multiprocessing\n",
    "    g_pc_list = []\n",
    "    g_pc = g_pc_low\n",
    "    while g_pc < g_pc_hi:\n",
    "        g_pc_list.append(g_pc)\n",
    "        g_pc = g_pc + g_pc_inc \n",
    "    \n",
    "    #sample the various polymer/colloid ratios over multiple processors\n",
    "    boundary = pool.map(iterate_over_c_class(p_c_low, p_c_hi, p_c_inc, p_s, d_c, d_p, l, Z_c, R_cp, BA, min_step), g_pc_list)\n",
    "             \n",
    "        \n",
    "    #sort from smallest to largest\n",
    "    #zipped_list = zip(boundary[0][:], boundary[1][:], boundary[2][:], boundary[3][:], boundary[4][:])\n",
    "    #boundary[0], boundary[1], boundary[2], boundary[3], boundary[4] = zip(*sorted(zipped_list[:]))\n",
    "    \n",
    "    return boundary"
   ]
  },
  {
   "cell_type": "code",
   "execution_count": null,
   "metadata": {
    "collapsed": false
   },
   "outputs": [],
   "source": [
    "#parameters\n",
    "d_c = 1.0\n",
    "d_p = 0.45\n",
    "R_cp = 0.01\n",
    "l = 0.2364\n",
    "Z_c = 0.000000001\n",
    "BA = 0.000000001 #3.5 #3.5 \n",
    "\n",
    "#colloid\n",
    "n_c_low = 0.01\n",
    "n_c_hi = 0.6\n",
    "n_c_inc = 0.01\n",
    "#polymer\n",
    "g_pc_low = 1.0\n",
    "g_pc_hi = 300.0\n",
    "g_pc_inc = 0.5\n",
    "\n",
    "#recalculate in terms of densities\n",
    "p_c_low = 6.0*n_c_low/(pi*d_c*d_c*d_c)\n",
    "p_c_hi = 6.0*n_c_hi/(pi*d_c*d_c*d_c)\n",
    "p_c_inc = 6.0*n_c_inc/(pi*d_c*d_c*d_c)\n",
    "\n",
    "#salt\n",
    "p_s = 0.01\n",
    "\n",
    "min_step= 0.001 #0.001\n",
    "boundary_2 = calculate_spinodal_boundary_ratio_parallelized(p_c_low, p_c_hi, p_c_inc, g_pc_low, g_pc_hi, g_pc_inc, p_s, d_c, d_p, l, Z_c, R_cp, BA, min_step)"
   ]
  },
  {
   "cell_type": "code",
   "execution_count": null,
   "metadata": {
    "collapsed": false
   },
   "outputs": [],
   "source": [
    "if __name__ == '__main__': \n",
    "    d_c = 1.0\n",
    "    d_p = 0.45\n",
    "    R_cp = 0.01\n",
    "    l = 0.2364\n",
    "    Z_c = 0.000000001\n",
    "    BA = 0.000000001 #3.5 #3.5 \n",
    "\n",
    "    #colloid\n",
    "    n_c_low = 0.01\n",
    "    n_c_hi = 0.6\n",
    "    n_c_inc = 0.01\n",
    "    #polymer\n",
    "    g_pc_low = 1.0\n",
    "    g_pc_hi = 300.0\n",
    "    g_pc_inc = 0.5\n",
    "\n",
    "    #recalculate in terms of densities\n",
    "    p_c_low = 6.0*n_c_low/(pi*d_c*d_c*d_c)\n",
    "    p_c_hi = 6.0*n_c_hi/(pi*d_c*d_c*d_c)\n",
    "    p_c_inc = 6.0*n_c_inc/(pi*d_c*d_c*d_c)\n",
    "\n",
    "    #salt\n",
    "    p_s = 0.01\n",
    "\n",
    "    min_step= 0.001 #0.001\n",
    "    boundary_2 = calculate_spinodal_boundary_ratio_parallelized(p_c_low, p_c_hi, p_c_inc, g_pc_low, g_pc_hi, g_pc_inc, p_s, d_c, d_p, l, Z_c, R_cp, BA, min_step)"
   ]
  },
  {
   "cell_type": "code",
   "execution_count": null,
   "metadata": {
    "collapsed": true
   },
   "outputs": [],
   "source": []
  },
  {
   "cell_type": "code",
   "execution_count": null,
   "metadata": {
    "collapsed": true
   },
   "outputs": [],
   "source": []
  },
  {
   "cell_type": "code",
   "execution_count": 203,
   "metadata": {
    "collapsed": false
   },
   "outputs": [
    {
     "name": "stdout",
     "output_type": "stream",
     "text": [
      "(-79377.57607179083, 1117.4135357688358, -3.1809106314700935, 1.4752968953529773)\n"
     ]
    }
   ],
   "source": [
    "d_c = 1.0\n",
    "l = 0.2364 \n",
    "Z_c = 600.0\n",
    "\n",
    "n_c = 0.5\n",
    "\n",
    "p_c = 6.0*n_c/(pi*d_c*d_c*d_c)\n",
    "p_s = 900.1\n",
    "p_pos = p_s\n",
    "p_neg = p_pos + Z_c*p_c #charge neutrality condition\n",
    "\n",
    "print calculate_f_ex_dlvo(p_c, p_pos, p_neg, #state variables\n",
    "                        l, Z_c, d_c, d_p #system parameters\n",
    "                        )"
   ]
  },
  {
   "cell_type": "code",
   "execution_count": 59,
   "metadata": {
    "collapsed": false
   },
   "outputs": [
    {
     "data": {
      "text/plain": [
       "53.71900826446281"
      ]
     },
     "execution_count": 59,
     "metadata": {},
     "output_type": "execute_result"
    }
   ],
   "source": [
    "(-150.52516851565588, -0.31049082135677597, 0.026188181729252667)\n",
    "(-123.48041990457435, -4.878175679480389, 0.29439203577686368)\n",
    "\n",
    "(-381.96186368234146, 38.880943881134534)\n",
    "(-3.8197185342054905, 1.9281036764427644)\n",
    "(-1.9249317803156538, 1.9281036764427644)"
   ]
  },
  {
   "cell_type": "code",
   "execution_count": 65,
   "metadata": {
    "collapsed": false
   },
   "outputs": [
    {
     "data": {
      "text/plain": [
       "53.73419290850484"
      ]
     },
     "execution_count": 65,
     "metadata": {},
     "output_type": "execute_result"
    }
   ],
   "source": [
    "\n",
    "(-1.5486877516377005e-07, 1.55389277938373e-07)"
   ]
  },
  {
   "cell_type": "code",
   "execution_count": null,
   "metadata": {
    "collapsed": true
   },
   "outputs": [],
   "source": []
  },
  {
   "cell_type": "code",
   "execution_count": null,
   "metadata": {
    "collapsed": true
   },
   "outputs": [],
   "source": []
  },
  {
   "cell_type": "code",
   "execution_count": 24,
   "metadata": {
    "collapsed": true
   },
   "outputs": [],
   "source": [
    "#performs grid search and labels each point as stable or unstable\n",
    "def calculate_spinodal_salt(p_c_low, p_c_hi, p_c_inc, p_s_low, p_s_hi, p_s_inc, #state variables for grid search\n",
    "                    p_p, #state variables held fixed\n",
    "                    d_c, d_p, #particle sizes\n",
    "                    l, Z_c, #ionic solution parameters \n",
    "                    R_cp, BA, #interfacial attraction parameters\n",
    "                    min_step #minimum step to use for hessian calculation\n",
    "                    ):\n",
    "    \n",
    "    #lists for storing the grid points classified as stable and unstable \n",
    "    stable = [[],[],[],[]]\n",
    "    unstable = [[],[],[],[]]\n",
    "    \n",
    "    #sample the grid points\n",
    "    p_c = p_c_low\n",
    "    while p_c < p_c_hi:\n",
    "        p_s = p_s_low\n",
    "        while p_s < p_s_hi:\n",
    "            determinant = calculate_stability_determinant(p_c, p_p, p_s, d_c, d_p, l, Z_c, R_cp, BA, min_step)[1]\n",
    "            if determinant < 0.0:\n",
    "                unstable[0].append(p_c)\n",
    "                unstable[1].append(p_s)\n",
    "                unstable[2].append(p_s/p_c)\n",
    "                unstable[3].append(((pi/6.0)*d_c*d_c*d_c)*p_c)\n",
    "            else:\n",
    "                stable[0].append(p_c)\n",
    "                stable[1].append(p_s)\n",
    "                stable[2].append(p_s/p_c)\n",
    "                stable[3].append(((pi/6.0)*d_c*d_c*d_c)*p_c)\n",
    "            p_s = p_s + p_s_inc\n",
    "            #print p_s\n",
    "        p_c = p_c + p_c_inc\n",
    "        #print p_c\n",
    "    \n",
    "    return (stable, unstable)"
   ]
  },
  {
   "cell_type": "code",
   "execution_count": 34,
   "metadata": {
    "collapsed": false
   },
   "outputs": [],
   "source": [
    "#parameters\n",
    "d_c = 1.0\n",
    "d_p = 0.45\n",
    "R_cp = 0.01\n",
    "l = 0.2364\n",
    "Z_c = 45.0\n",
    "BA = 0.000000001\n",
    "\n",
    "#colloid\n",
    "n_c_low = 0.05 #0.005\n",
    "n_c_hi = 0.4\n",
    "n_c_inc = 0.05 #0.005\n",
    "\n",
    "n_p = 0.001\n",
    "\n",
    "#recalculate in terms of densities\n",
    "p_c_low = 6.0*n_c_low/(pi*d_c*d_c*d_c)\n",
    "p_c_hi = 6.0*n_c_hi/(pi*d_c*d_c*d_c)\n",
    "p_c_inc = 6.0*n_c_inc/(pi*d_c*d_c*d_c)\n",
    "p_s_low = 0.5\n",
    "p_s_hi = 20.0\n",
    "p_s_inc = 0.5\n",
    "\n",
    "p_p = 0.01\n",
    "\n",
    "min_step= 0.001 #0.001\n",
    "stable, unstable = calculate_spinodal_salt(p_c_low, p_c_hi, p_c_inc, p_s_low, p_s_hi, p_s_inc, p_p, d_c, d_p, l, Z_c, R_cp, BA, min_step)"
   ]
  },
  {
   "cell_type": "code",
   "execution_count": 36,
   "metadata": {
    "collapsed": false
   },
   "outputs": [
    {
     "data": {
      "text/plain": [
       "<matplotlib.text.Text at 0x173a1668>"
      ]
     },
     "execution_count": 36,
     "metadata": {},
     "output_type": "execute_result"
    },
    {
     "data": {
      "image/png": "[encoded data removed]",
      "text/plain": [
       "<matplotlib.figure.Figure at 0x16c3b4e0>"
      ]
     },
     "metadata": {},
     "output_type": "display_data"
    }
   ],
   "source": [
    "#font scpecifications\n",
    "title_font = {'family' : 'arial', 'color'  : 'black', 'weight' : 'heavy','size': 20}\n",
    "axis_label_font = {'family' : 'arial', 'color'  : 'black', 'weight' : 'normal','size': 20}\n",
    "\n",
    "#figure size and tick style\n",
    "plt.rcParams[\"figure.figsize\"] = [6,6]\n",
    "plt.rc('axes',edgecolor='black',linewidth=1)\n",
    "plt.tick_params(which='both', axis='both', color='black', length=4, width=0.5)\n",
    "plt.rcParams['xtick.direction'] = 'in'\n",
    "plt.rcParams['ytick.direction'] = 'in'\n",
    "\n",
    "\n",
    "plt.xlabel('Colloid volume fraction', fontsize=20, fontdict = axis_label_font)\n",
    "plt.ylabel('Polymer volume fraction', fontsize=20, fontdict = axis_label_font)\n",
    "plt.scatter(stable[3], stable[1], c=\"b\", marker=\"s\", s=40, alpha=0.3, linewidths=0.0)\n",
    "plt.scatter(unstable[3],unstable[1], c=\"g\", marker=\"s\", s=40, alpha=0.8, linewidths=0.0)\n",
    "plt.ylim((0,15))\n",
    "plt.xlim((0,0.35))\n",
    "\n",
    "#title and axis labels\n",
    "plt.tick_params(axis='both', labelsize=20)\n",
    "plt.title(\"Stability phase diagram\", y=1.05, fontdict = title_font)"
   ]
  },
  {
   "cell_type": "code",
   "execution_count": null,
   "metadata": {
    "collapsed": true
   },
   "outputs": [],
   "source": [
    "\n",
    "\n"
   ]
  },
  {
   "cell_type": "code",
   "execution_count": null,
   "metadata": {
    "collapsed": true
   },
   "outputs": [],
   "source": [
    "B = 0.325619\n",
    "proba = []\n",
    "PF = sum([exp(-B*n) for n in range(7)])\n",
    "for n in range(7):\n",
    "    proba.append(exp(-B*n))"
   ]
  },
  {
   "cell_type": "code",
   "execution_count": 4,
   "metadata": {
    "collapsed": false
   },
   "outputs": [],
   "source": [
    "B = 0.325619\n",
    "PF = sum([exp(-B*n) for n in range(7)])"
   ]
  },
  {
   "cell_type": "code",
   "execution_count": 5,
   "metadata": {
    "collapsed": true
   },
   "outputs": [],
   "source": [
    "proba = []\n",
    "for n in range(7):\n",
    "    proba.append(exp(-B*n)/PF)"
   ]
  },
  {
   "cell_type": "code",
   "execution_count": 10,
   "metadata": {
    "collapsed": false
   },
   "outputs": [
    {
     "data": {
      "text/plain": [
       "[0.30960899223436855,\n",
       " 0.22356253777294433,\n",
       " 0.16143009263001318,\n",
       " 0.11656548125697828,\n",
       " 0.08416963156809064,\n",
       " 0.06077722840340436,\n",
       " 0.043886036134200675]"
      ]
     },
     "execution_count": 10,
     "metadata": {},
     "output_type": "execute_result"
    }
   ],
   "source": [
    "proba"
   ]
  },
  {
   "cell_type": "code",
   "execution_count": 8,
   "metadata": {
    "collapsed": false
   },
   "outputs": [
    {
     "data": {
      "text/plain": [
       "<matplotlib.text.Text at 0x141f1b38>"
      ]
     },
     "execution_count": 8,
     "metadata": {},
     "output_type": "execute_result"
    },
    {
     "data": {
      "image/png": "[encoded data removed]",
      "text/plain": [
       "<matplotlib.figure.Figure at 0x13ffee80>"
      ]
     },
     "metadata": {},
     "output_type": "display_data"
    }
   ],
   "source": [
    "#font scpecifications\n",
    "title_font = {'family' : 'arial', 'color'  : 'black', 'weight' : 'heavy','size': 20}\n",
    "axis_label_font = {'family' : 'arial', 'color'  : 'black', 'weight' : 'normal','size': 20}\n",
    "\n",
    "#figure size and tick style\n",
    "plt.rcParams[\"figure.figsize\"] = [6,6]\n",
    "plt.rc('axes',edgecolor='black',linewidth=1)\n",
    "plt.tick_params(which='both', axis='both', color='black', length=4, width=0.5)\n",
    "plt.rcParams['xtick.direction'] = 'in'\n",
    "plt.rcParams['ytick.direction'] = 'in'\n",
    "\n",
    "\n",
    "plt.xlabel('Colloid volume fraction', fontsize=20, fontdict = axis_label_font)\n",
    "plt.ylabel('Polymer / Colloid', fontsize=20, fontdict = axis_label_font)\n",
    "plt.scatter(range(7), proba, c=\"b\", marker=\"s\", s=90, alpha=0.3, linewidths=0.0)\n",
    "plt.ylim((0,1))\n",
    "plt.xlim((0,6))\n",
    "\n",
    "#title and axis labels\n",
    "plt.tick_params(axis='both', labelsize=20)\n",
    "plt.title(\"Stability phase diagram\", y=1.05, fontdict = title_font)"
   ]
  },
  {
   "cell_type": "code",
   "execution_count": null,
   "metadata": {
    "collapsed": true
   },
   "outputs": [],
   "source": []
  },
  {
   "cell_type": "code",
   "execution_count": null,
   "metadata": {
    "collapsed": true
   },
   "outputs": [],
   "source": []
  },
  {
   "cell_type": "code",
   "execution_count": 15,
   "metadata": {
    "collapsed": false
   },
   "outputs": [
    {
     "data": {
      "text/plain": [
       "1.800000051898494"
      ]
     },
     "execution_count": 15,
     "metadata": {},
     "output_type": "execute_result"
    }
   ],
   "source": [
    "import numpy as np\n",
    "sum([n*proba[n] for n in range(7)])"
   ]
  },
  {
   "cell_type": "code",
   "execution_count": null,
   "metadata": {
    "collapsed": true
   },
   "outputs": [],
   "source": []
  },
  {
   "cell_type": "code",
   "execution_count": null,
   "metadata": {
    "collapsed": true
   },
   "outputs": [],
   "source": []
  },
  {
   "cell_type": "code",
   "execution_count": null,
   "metadata": {
    "collapsed": true
   },
   "outputs": [],
   "source": []
  },
  {
   "cell_type": "code",
   "execution_count": null,
   "metadata": {
    "collapsed": true
   },
   "outputs": [],
   "source": []
  },
  {
   "cell_type": "code",
   "execution_count": null,
   "metadata": {
    "collapsed": true
   },
   "outputs": [],
   "source": []
  },
  {
   "cell_type": "code",
   "execution_count": null,
   "metadata": {
    "collapsed": true
   },
   "outputs": [],
   "source": [
    "#calculate the binary mixture rdfs\n",
    "#this assumes that that particle 2 is larger than particle 1\n",
    "def calculate_rdfs(p_1, p_2, d_1, d_2, N, dr):\n",
    "    r_max = N*dr\n",
    "    k_min = pi*(0.5)/r_max\n",
    "    k_max = pi*(float(N) - 0.5)/r_max\n",
    "    K = linspace(k_min, k_max, N)\n",
    "    R = linspace(dr, N*dr, N)\n",
    "    ft_ind = linspace(1, N, N)\n",
    "    \n",
    "    CR = calculate_dcfs(p_1, p_2, d_1, d_2, N, dr)   \n",
    "    \n",
    "    CK = {}\n",
    "    CK[\"c_11\"] = ((4.0*pi*r_max**2.0)/(2.0*N**2.0))*dst(ft_ind*CR[\"c_11\"], type=3)/K\n",
    "    CK[\"c_22\"] = ((4.0*pi*r_max**2.0)/(2.0*N**2.0))*dst(ft_ind*CR[\"c_22\"], type=3)/K\n",
    "    CK[\"c_12\"] = ((4.0*pi*r_max**2.0)/(2.0*N**2.0))*dst(ft_ind*CR[\"c_12\"], type=3)/K   \n",
    "    \n",
    "    HK = {\"h_11\":[], \"h_22\":[], \"h_12\":[]}\n",
    "     \n",
    "    mCK = matrix([[],[]])\n",
    "    \n",
    "    for i in range(len(K)):\n",
    "        c_11 = CK[\"c_11\"][i]\n",
    "        c_22 = CK[\"c_22\"][i]\n",
    "        c_12 = CK[\"c_12\"][i]\n",
    "        \n",
    "        ########################################################################\n",
    "        \n",
    "        mCK = matrix([[c_11, c_12],[c_12, c_22]])\n",
    "        mI = matrix([[1.0, 0.0],[0.0, 1.0]])\n",
    "        mP = matrix([[p_1, 0.0],[0.0, p_2]])\n",
    "        \n",
    "        mHK = dot(mCK, inv(mI - dot(mP, mCK)))\n",
    "        \n",
    "        HK[\"h_11\"].append(mHK.item((0, 0)))\n",
    "        HK[\"h_22\"].append(mHK.item((1, 1)))\n",
    "        HK[\"h_12\"].append(mHK.item((0, 1)))\n",
    "        \n",
    "        ########################################################################\n",
    "        \n",
    "        #HK[\"h_11\"].append(c_11)\n",
    "        #HK[\"h_22\"].append(c_22)\n",
    "        #HK[\"h_12\"].append(c_12)\n",
    "    \n",
    "    HR = {\"h_11\":[], \"h_22\":[], \"h_12\":[]}\n",
    "    \n",
    "    HR[\"h_11\"] = ((4.0*pi*k_max**2.0)/((8.0*pi**3.0)*2.0*N**2.0))*idst(ft_ind*HK[\"h_11\"], type=3)/R\n",
    "    HR[\"h_22\"] = ((4.0*pi*k_max**2.0)/((8.0*pi**3.0)*2.0*N**2.0))*idst(ft_ind*HK[\"h_22\"], type=3)/R\n",
    "    HR[\"h_12\"] = ((4.0*pi*k_max**2.0)/((8.0*pi**3.0)*2.0*N**2.0))*idst(ft_ind*HK[\"h_12\"], type=3)/R   \n",
    "\n",
    "    \n",
    "    #G = calculate_rdfs(p_1, p_2, dcfs, dr, r_max)\n",
    "    return HR"
   ]
  },
  {
   "cell_type": "code",
   "execution_count": null,
   "metadata": {
    "collapsed": true
   },
   "outputs": [],
   "source": []
  },
  {
   "cell_type": "markdown",
   "metadata": {},
   "source": [
    "###Check of free energy using monodisperse hs"
   ]
  },
  {
   "cell_type": "code",
   "execution_count": null,
   "metadata": {
    "collapsed": true
   },
   "outputs": [],
   "source": [
    "def calculate_f_ex_hs_mono(p, d_c):\n",
    "    \n",
    "    #for convenience I just us a numbered notation similar to that in the above reference\n",
    "    n = (pi/6.0)*p*(d_c**3.0)\n",
    "    \n",
    "    #final binary hs free energy\n",
    "    f_ex_hs_mono = p*((4.0*n - 3.0*(n**2.0))/((1.0 - n)**2.0))\n",
    "    \n",
    "    return f_ex_hs_mono"
   ]
  },
  {
   "cell_type": "code",
   "execution_count": 129,
   "metadata": {
    "collapsed": false
   },
   "outputs": [
    {
     "name": "stdout",
     "output_type": "stream",
     "text": [
      "1.99346280814\n",
      "1.99346280814\n"
     ]
    }
   ],
   "source": [
    "p_c_pos = 0.2\n",
    "p_c_neg = 0.3\n",
    "p = p_c_pos + p_c_neg\n",
    "\n",
    "d_c = 1.2\n",
    "d_c_pos = d_c\n",
    "d_c_neg = d_c\n",
    "\n",
    "print calculate_f_ex_hs(p_c_pos, p_c_neg, d_c_pos, d_c_neg)\n",
    "print calculate_f_ex_hs_mono(p, d_c)"
   ]
  },
  {
   "cell_type": "code",
   "execution_count": 144,
   "metadata": {
    "collapsed": false
   },
   "outputs": [
    {
     "data": {
      "text/plain": [
       "1.0404"
      ]
     },
     "execution_count": 144,
     "metadata": {},
     "output_type": "execute_result"
    }
   ],
   "source": [
    "Z_c_1 = -1.02\n",
    "(Z_c_1**2.)"
   ]
  },
  {
   "cell_type": "code",
   "execution_count": 12,
   "metadata": {
    "collapsed": false
   },
   "outputs": [],
   "source": [
    "from numpy import exp as exp_array"
   ]
  },
  {
   "cell_type": "code",
   "execution_count": 13,
   "metadata": {
    "collapsed": false
   },
   "outputs": [
    {
     "data": {
      "text/plain": [
       "102.15827997845022"
      ]
     },
     "execution_count": 13,
     "metadata": {},
     "output_type": "execute_result"
    }
   ],
   "source": [
    "sum(exp_array([2,3,4,3]))"
   ]
  },
  {
   "cell_type": "code",
   "execution_count": 146,
   "metadata": {
    "collapsed": false
   },
   "outputs": [
    {
     "data": {
      "text/plain": [
       "1"
      ]
     },
     "execution_count": 146,
     "metadata": {},
     "output_type": "execute_result"
    }
   ],
   "source": [
    "int(sign(23.0))"
   ]
  },
  {
   "cell_type": "code",
   "execution_count": 147,
   "metadata": {
    "collapsed": false
   },
   "outputs": [
    {
     "data": {
      "text/plain": [
       "0"
      ]
     },
     "execution_count": 147,
     "metadata": {},
     "output_type": "execute_result"
    }
   ],
   "source": [
    "-1%1"
   ]
  },
  {
   "cell_type": "code",
   "execution_count": 148,
   "metadata": {
    "collapsed": false
   },
   "outputs": [
    {
     "data": {
      "text/plain": [
       "0"
      ]
     },
     "execution_count": 148,
     "metadata": {},
     "output_type": "execute_result"
    }
   ],
   "source": [
    "1%1"
   ]
  },
  {
   "cell_type": "code",
   "execution_count": 156,
   "metadata": {
    "collapsed": false
   },
   "outputs": [
    {
     "name": "stdout",
     "output_type": "stream",
     "text": [
      "0.0\n",
      "0.0\n",
      "1.0\n",
      "1.0\n"
     ]
    }
   ],
   "source": [
    "Z_c_1 = -10.0\n",
    "Z_c_2 = -5.0\n",
    "\n",
    "print (1.0 + sign(Z_c_1*(1.0)))/2.0\n",
    "print (1.0 + sign(Z_c_2*(1.0)))/2.0\n",
    "print (1.0 + sign(Z_c_1*(-1.0)))/2.0\n",
    "print (1.0 + sign(Z_c_2*(-1.0)))/2.0"
   ]
  },
  {
   "cell_type": "code",
   "execution_count": 158,
   "metadata": {
    "collapsed": false
   },
   "outputs": [
    {
     "data": {
      "text/plain": [
       "0"
      ]
     },
     "execution_count": 158,
     "metadata": {},
     "output_type": "execute_result"
    }
   ],
   "source": [
    "int(3 < 2)"
   ]
  },
  {
   "cell_type": "code",
   "execution_count": 168,
   "metadata": {
    "collapsed": false
   },
   "outputs": [
    {
     "data": {
      "text/plain": [
       "array([1, 1, 0, 0, 0])"
      ]
     },
     "execution_count": 168,
     "metadata": {},
     "output_type": "execute_result"
    }
   ],
   "source": [
    "array([1<2,3>2,4<1,4<2,4<3]).astype(int)"
   ]
  },
  {
   "cell_type": "code",
   "execution_count": 171,
   "metadata": {
    "collapsed": false
   },
   "outputs": [
    {
     "data": {
      "text/plain": [
       "array([ 1.,  1.,  4.,  4.,  4.])"
      ]
     },
     "execution_count": 171,
     "metadata": {},
     "output_type": "execute_result"
    }
   ],
   "source": [
    "(2.0-array([1<2,3>2,4<1,4<2,4<3]))**2.0"
   ]
  },
  {
   "cell_type": "code",
   "execution_count": 183,
   "metadata": {
    "collapsed": false
   },
   "outputs": [
    {
     "data": {
      "text/plain": [
       "array([ 1.,  1.,  1., ...,  0.,  0.,  0.])"
      ]
     },
     "execution_count": 183,
     "metadata": {},
     "output_type": "execute_result"
    }
   ],
   "source": [
    "(R < 2.0).astype(float)"
   ]
  },
  {
   "cell_type": "code",
   "execution_count": 231,
   "metadata": {
    "collapsed": true
   },
   "outputs": [],
   "source": [
    "a = array([1.0,1.0,1.0,1.0])\n",
    "b = array([2.0,2.0,2.0,2.0])\n",
    "c = array([3.0,3.0,3.0,3.0])\n",
    "\n",
    "M = array([[a,b],[b,c]])"
   ]
  },
  {
   "cell_type": "code",
   "execution_count": 232,
   "metadata": {
    "collapsed": false
   },
   "outputs": [
    {
     "data": {
      "text/plain": [
       "array([[[ 1.,  1.,  1.,  1.],\n",
       "        [ 2.,  2.,  2.,  2.]],\n",
       "\n",
       "       [[ 2.,  2.,  2.,  2.],\n",
       "        [ 3.,  3.,  3.,  3.]]])"
      ]
     },
     "execution_count": 232,
     "metadata": {},
     "output_type": "execute_result"
    }
   ],
   "source": [
    "M"
   ]
  },
  {
   "cell_type": "code",
   "execution_count": null,
   "metadata": {
    "collapsed": true
   },
   "outputs": [],
   "source": []
  }
 ],
 "metadata": {
  "kernelspec": {
   "display_name": "Python 2",
   "language": "python",
   "name": "python2"
  },
  "language_info": {
   "codemirror_mode": {
    "name": "ipython",
    "version": 2
   },
   "file_extension": ".py",
   "mimetype": "text/x-python",
   "name": "python",
   "nbconvert_exporter": "python",
   "pygments_lexer": "ipython2",
   "version": "2.7.10"
  }
 },
 "nbformat": 4,
 "nbformat_minor": 0
}

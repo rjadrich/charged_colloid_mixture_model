{
 "cells": [
  {
   "cell_type": "markdown",
   "metadata": {},
   "source": [
    "#Theoretical model for a binary mixture of oppositely charged colloids with counterions and salt"
   ]
  },
  {
   "cell_type": "markdown",
   "metadata": {},
   "source": [
    "###Required imports\n",
    "\n",
    "---"
   ]
  },
  {
   "cell_type": "code",
   "execution_count": 65,
   "metadata": {
    "collapsed": false
   },
   "outputs": [],
   "source": [
    "import numdifftools as nd\n",
    "from math import pi\n",
    "from numpy import exp, log, sign\n",
    "from numpy.linalg import det, slogdet, inv\n",
    "from numpy import array, arange, linspace, append, matrix, dot, absolute\n",
    "import matplotlib.pyplot as plt\n",
    "import collections\n",
    "import functools\n",
    "import pickle\n",
    "from scipy.fftpack import dst, idst\n",
    "import timeit\n",
    "%matplotlib inline "
   ]
  },
  {
   "cell_type": "markdown",
   "metadata": {},
   "source": [
    "###Create a memoized class to decorate some functions with and prevent trivial re-evaluation\n",
    "\n",
    "---"
   ]
  },
  {
   "cell_type": "code",
   "execution_count": 66,
   "metadata": {
    "collapsed": true
   },
   "outputs": [],
   "source": [
    "class memoized(object):\n",
    "    '''Decorator. Caches a function's return value each time it is called.\n",
    "    If called later with the same arguments, the cached value is returned\n",
    "    (not reevaluated).\n",
    "    '''\n",
    "    def __init__(self, func):\n",
    "        self.func = func\n",
    "        self.cache = {}\n",
    "    def __call__(self, *args):\n",
    "        if not isinstance(args, collections.Hashable):\n",
    "            # uncacheable. a list, for instance.\n",
    "            # better to not cache than blow up.\n",
    "            return self.func(*args)\n",
    "        if args in self.cache:\n",
    "            return self.cache[args]\n",
    "        else:\n",
    "            value = self.func(*args)\n",
    "            self.cache[args] = value\n",
    "            return value\n",
    "    def __repr__(self):\n",
    "        '''Return the function's docstring.'''\n",
    "        return self.func.__doc__\n",
    "    def __get__(self, obj, objtype):\n",
    "        '''Support instance methods.'''\n",
    "        return functools.partial(self.__call__, obj)"
   ]
  },
  {
   "cell_type": "markdown",
   "metadata": {},
   "source": [
    "###Function to create binary PY hardsphere RDFs using analytical results\n",
    "\n",
    "The expressions are taken from http://dx.doi.org/10.1103/PhysRev.133.A895 (Eqns. 37 - 40)\n",
    "\n",
    "---"
   ]
  },
  {
   "cell_type": "code",
   "execution_count": 67,
   "metadata": {
    "collapsed": false
   },
   "outputs": [],
   "source": [
    "#calculate the pressure\n",
    "def calculate_pressure(p_1, p_2, d_1, d_2):\n",
    "    eta_1 = (pi/6.0)*p_1\n",
    "    eta_2 = (pi/6.0)*p_2\n",
    "    xi = eta_1*(d_1**3.0) + eta_2*(d_2**3.0)\n",
    "    \n",
    "    P = ((p_1 + p_2)*(1.0 + xi + xi**2.0) - \n",
    "         (18.0/pi)*eta_1*eta_2*((d_2 - d_1)**2.0)*((d_1 + d_2) + d_1*d_2*(eta_1*(d_1**2.0) + eta_2*(d_2**2.0))))/((1.0 - xi)**3.0)\n",
    "    \n",
    "    return P\n",
    "\n",
    "\n",
    "#numerically evaluate pressure derivatives\n",
    "def calculate_pressure_derivs(p_1, p_2, d_1, d_2):\n",
    "    deriv_steps = nd.MinStepGenerator(base_step=0.0001, step_ratio=2.0, num_steps = 4)\n",
    "    \n",
    "    P_1 = lambda x: calculate_pressure(x, p_2, d_1, d_2)\n",
    "    P_2 = lambda x: calculate_pressure(p_1, x, d_1, d_2)\n",
    "    dP_dp_1 = nd.Derivative(P_1, step = deriv_steps) \n",
    "    dP_dp_2 = nd.Derivative(P_2, step = deriv_steps)\n",
    "    \n",
    "    return (dP_dp_1(p_1).tolist(), dP_dp_2(p_2).tolist())\n",
    "\n",
    "\n",
    "#generates the three PY direct correlation functions\n",
    "#@memoized\n",
    "def calculate_dcfs(p_1, p_2, d_1, d_2, N, dr):\n",
    "    R = linspace(dr, N*dr, N)\n",
    "    eta_1 = (pi/6.0)*p_1\n",
    "    eta_2 = (pi/6.0)*p_2\n",
    "    xi = eta_1*(d_1**3.0) + eta_2*(d_2**3.0)\n",
    "    d_12 = (d_1 + d_2)/2.0\n",
    "    dd_12 = (d_2 - d_1)/2.0\n",
    "    \n",
    "    g_11 = (1.0 + xi/2.0 + 3.0*eta_2*(d_2**2.0)*(d_1 - d_2)/2.0)/((1.0 - xi)**2.0)\n",
    "    g_22 = (1.0 + xi/2.0 + 3.0*eta_1*(d_1**2.0)*(d_2 - d_1)/2.0)/((1.0 - xi)**2.0)\n",
    "    g_12 = (d_2*g_11 + d_1*g_22)/(2.0*d_12)\n",
    "    \n",
    "    a_1, a_2 = calculate_pressure_derivs(p_1, p_2, d_1, d_2)\n",
    "    \n",
    "    b_1 = -6.0*(eta_1*(d_1**2.0)*(g_11**2.0) + eta_2*(d_12**2.0)*(g_12**2.0))\n",
    "    b_2 = -6.0*(eta_2*(d_2**2.0)*(g_22**2.0) + eta_1*(d_12**2.0)*(g_12**2.0))\n",
    "    \n",
    "    b = -6.0*(eta_1*d_1*g_11 + eta_2*d_2*g_22)*d_12*g_12\n",
    "    d = (eta_1*a_1 + eta_2*a_2)/2.0\n",
    "    \n",
    "    #load in the dcfs    \n",
    "    #this is vectorized for maximum performance\n",
    "    CR = {\"c_11\":array([]), \"c_22\":array([]), \"c_12\":array([])}   \n",
    "        \n",
    "    CR[\"c_11\"] = (-a_1 - b_1*R - d*(R**3.0))*(R < d_1).astype(float)\n",
    "    CR[\"c_22\"] = (-a_2 - b_2*R - d*(R**3.0))*(R < d_2).astype(float)\n",
    "    CR[\"c_12\"] = ((-a_1)*(R <= dd_12).astype(float) \n",
    "                  + (-a_1 - (b*((R - dd_12)**2.0) + 4.0*dd_12*d*((R - dd_12)**3.0) \n",
    "                             + d*((R - dd_12)**4.0))/R)*(R > dd_12).astype(float)*(R < d_12).astype(float))\n",
    "    \n",
    "    return CR\n",
    "\n",
    "\n",
    "#calculate the binary mixture rdfs\n",
    "#this assumes that that particle 2 is larger than particle 1\n",
    "@memoized\n",
    "def calculate_rdfs(p_1, p_2, d_1, d_2, N, dr):\n",
    "    r_max = N*dr\n",
    "    k_min = pi*(0.5)/r_max\n",
    "    k_max = pi*(float(N) - 0.5)/r_max\n",
    "    K = linspace(k_min, k_max, N)\n",
    "    R = linspace(dr, N*dr, N)\n",
    "    ft_ind = linspace(1, N, N)\n",
    "    \n",
    "    CR = calculate_dcfs(p_1, p_2, d_1, d_2, N, dr)   \n",
    "    \n",
    "    CK = {}\n",
    "    CK[\"c_11\"] = ((4.0*pi*r_max**2.0)/(2.0*N**2.0))*dst(ft_ind*CR[\"c_11\"], type=3)/K\n",
    "    CK[\"c_22\"] = ((4.0*pi*r_max**2.0)/(2.0*N**2.0))*dst(ft_ind*CR[\"c_22\"], type=3)/K\n",
    "    CK[\"c_12\"] = ((4.0*pi*r_max**2.0)/(2.0*N**2.0))*dst(ft_ind*CR[\"c_12\"], type=3)/K   \n",
    "    \n",
    "    HK = {\"h_11\":[], \"h_22\":[], \"h_12\":[]}\n",
    "     \n",
    "    mCK = matrix([[],[]])\n",
    "    \n",
    "    for i in range(len(K)):\n",
    "        c_11 = CK[\"c_11\"][i]\n",
    "        c_22 = CK[\"c_22\"][i]\n",
    "        c_12 = CK[\"c_12\"][i]\n",
    "        \n",
    "        ########################################################################\n",
    "        \n",
    "        mCK = matrix([[c_11, c_12],[c_12, c_22]])\n",
    "        mI = matrix([[1.0, 0.0],[0.0, 1.0]])\n",
    "        mP = matrix([[p_1, 0.0],[0.0, p_2]])\n",
    "        \n",
    "        mHK = dot(mCK, inv(mI - dot(mP, mCK)))\n",
    "        \n",
    "        HK[\"h_11\"].append(mHK.item((0, 0)))\n",
    "        HK[\"h_22\"].append(mHK.item((1, 1)))\n",
    "        HK[\"h_12\"].append(mHK.item((0, 1)))\n",
    "        \n",
    "        ########################################################################\n",
    "        \n",
    "        #HK[\"h_11\"].append(c_11)\n",
    "        #HK[\"h_22\"].append(c_22)\n",
    "        #HK[\"h_12\"].append(c_12)     \n",
    "        \n",
    "    core_loc_11 = int((d_1 - dr)/dr + 0.5)\n",
    "    core_loc_22 = int((d_2 - dr)/dr + 0.5)\n",
    "    core_loc_12 = int((0.5*(d_1 + d_2) - dr)/dr + 0.5)\n",
    "    \n",
    "    GR = {} \n",
    "    GR[\"g_11\"] = (((4.0*pi*k_max**2.0)/((8.0*pi**3.0)*2.0*N**2.0))*idst(ft_ind*HK[\"h_11\"], type=3)/R + 1.0)[core_loc_11 + 1:]\n",
    "    GR[\"r_11\"] = R[core_loc_11 + 1:]\n",
    "    GR[\"g_22\"] = (((4.0*pi*k_max**2.0)/((8.0*pi**3.0)*2.0*N**2.0))*idst(ft_ind*HK[\"h_22\"], type=3)/R + 1.0)[core_loc_22 + 1:]\n",
    "    GR[\"r_22\"] = R[core_loc_22 + 1:]\n",
    "    GR[\"g_12\"] = (((4.0*pi*k_max**2.0)/((8.0*pi**3.0)*2.0*N**2.0))*idst(ft_ind*HK[\"h_12\"], type=3)/R + 1.0)[core_loc_12 + 1:] \n",
    "    GR[\"r_12\"] = R[core_loc_12 + 1:]\n",
    "\n",
    "    return GR"
   ]
  },
  {
   "cell_type": "code",
   "execution_count": 69,
   "metadata": {
    "collapsed": false
   },
   "outputs": [],
   "source": [
    "#variables for transform\n",
    "N = 16384/2/2/2\n",
    "dr = 0.008\n",
    "\n",
    "r_max = N*dr\n",
    "k_min = pi*(0.5)/r_max\n",
    "k_max = pi*(float(N) - 0.5)/r_max\n",
    "K = linspace(k_min, k_max, N)\n",
    "R = linspace(dr, N*dr, N)\n",
    "\n",
    "p_1 = 1.0\n",
    "p_2 = 1.0\n",
    "\n",
    "d_1 = 0.2\n",
    "d_2 = 1.000000001\n",
    "CR = calculate_dcfs(p_1, p_2, d_1, d_2, N, dr)\n",
    "GR = calculate_rdfs(p_1, p_2, d_1, d_2, N, dr)"
   ]
  },
  {
   "cell_type": "code",
   "execution_count": 70,
   "metadata": {
    "collapsed": false
   },
   "outputs": [
    {
     "data": {
      "image/png": "[encoded data removed]",
      "text/plain": [
       "<matplotlib.figure.Figure at 0x13120358>"
      ]
     },
     "metadata": {},
     "output_type": "display_data"
    }
   ],
   "source": [
    "x1 = GR[\"r_11\"]\n",
    "x2 = GR[\"r_22\"]\n",
    "x3 = GR[\"r_12\"]\n",
    "y1 = GR[\"g_11\"]\n",
    "y2 = GR[\"g_22\"]\n",
    "y3 = GR[\"g_12\"]\n",
    "\n",
    "plt.plot(x1, y1)\n",
    "plt.plot(x2, y2)\n",
    "plt.plot(x3, y3)\n",
    "plt.xlim([0, 5])\n",
    "plt.ylim([-0.2, 8])\n",
    "plt.grid()\n",
    "plt.show()"
   ]
  },
  {
   "cell_type": "markdown",
   "metadata": {},
   "source": [
    "##NOTE: All following free energy terms are per volume and thermal energy\n",
    "####This makes the stability calculation easier by simplifying the form of the mixed partial derivatives needed for the stability calculation\n",
    "\n",
    "##Variable definitions:\n",
    "  * **d_c_1 & d_c_2** = colloid diameter\n",
    "  * **p_c_1 & p_c_2** = colloid density\n",
    "  * **Z_c_1 & Z_c_2** = colloid surface charge (positive or negative)\n",
    " \n",
    "  \n",
    "  * **p_pos** = positive monovalent salt or counterion density\n",
    "  * **p_neg** = negative monovalent salt or counterion density"
   ]
  },
  {
   "cell_type": "markdown",
   "metadata": {},
   "source": [
    "###Ideal free energy\n",
    "---"
   ]
  },
  {
   "cell_type": "code",
   "execution_count": 71,
   "metadata": {
    "collapsed": true
   },
   "outputs": [],
   "source": [
    "def calculate_f_id(p_c_1, p_c_2, p_pos, p_neg, d_c_1, d_c_2):\n",
    "    \n",
    "    #just creating an arbitrary length scale to non-dimensionalize the log term\n",
    "    vol = (d_c_1/2.0 + d_c_2/2.0)**3.0\n",
    "    p = p_c_1 + p_c_2 + p_pos + p_neg\n",
    "    \n",
    "    #ideal contribution containing both mixing and translational entropy\n",
    "    fid = p_c_1*log(p_c_1*vol) + p_c_2*log(p_c_2*vol) + p_pos*log(p_pos*vol) + p_neg*log(p_neg*vol) - p\n",
    "    \n",
    "    return fid"
   ]
  },
  {
   "cell_type": "markdown",
   "metadata": {},
   "source": [
    "###Excess binary HS free energy\n",
    "\n",
    "This uses the binary Carnahan Starling result of http://dx.doi.org/10.1063/1.1675048 (Eqn. 11)\n",
    "\n",
    "---"
   ]
  },
  {
   "cell_type": "code",
   "execution_count": 72,
   "metadata": {
    "collapsed": true
   },
   "outputs": [],
   "source": [
    "def calculate_f_ex_hs(p_c_1, p_c_2, d_c_1, d_c_2):\n",
    "    \n",
    "    #for convenience i use a numbered notation similar to that in the above reference\n",
    "    d1 = d_c_1\n",
    "    d2 = d_c_2\n",
    "    x1 = p_c_1/(p_c_1 + p_c_2)\n",
    "    x2 = p_c_2/(p_c_1 + p_c_2)\n",
    "    n1 = (pi/6.0)*p_c_1*(d_c_1**3.0)\n",
    "    n2 = (pi/6.0)*p_c_2*(d_c_2**3.0)\n",
    "    n = n1 + n2\n",
    "    \n",
    "    #calculate simplified values for free energy function\n",
    "    q12 = (((n1*n2)**(1.0/2.0))/n)*(((d1 - d2)**2.0)/(d1*d2))*((x1*x2)**(1.0/2.0))\n",
    "    y1 = q12*(d1 + d2)*((d1*d2)**(-1.0/2.0))\n",
    "    y2 = (q12/n)*((d1*d2)**(1.0/2.0))*(n1/d1 + n2/d2)\n",
    "    y3 = (((n1/n)**(2.0/3.0))*(x1**(1.0/3.0)) + ((n2/n)**(2.0/3.0))*(x2**(1.0/3.0)))**3.0\n",
    "    \n",
    "    #final binary hs free energy\n",
    "    f_ex_hs = (p_c_1 + p_c_2)*(-(3.0/2.0)*(1.0 - y1 + y2 + y3) \n",
    "                                    + (3.0*y2 + 2.0*y3)/(1.0 - n) \n",
    "                                    + (3.0/2.0)*(1.0 - y1 - y2 - (1.0/3.0)*y3)/((1.0 - n)**2.0) \n",
    "                                    + (y3 - 1.0)*log(1.0 - n))\n",
    "    \n",
    "    return f_ex_hs"
   ]
  },
  {
   "cell_type": "markdown",
   "metadata": {},
   "source": [
    "###Perturbative polyion-polyion DLVO free energy\n",
    "\n",
    "This uses the DLVO theory http://dx.doi.org/10.1103/PhysRevE.59.2010 (Eqn. 61 - 65)\n",
    "\n",
    "Also used is the Mayer function perturbation expansion of http://dx.doi.org/10.1080/00268970701416605 (Eqn. 9 and 15)\n",
    "\n",
    "---"
   ]
  },
  {
   "cell_type": "code",
   "execution_count": 73,
   "metadata": {
    "collapsed": false
   },
   "outputs": [],
   "source": [
    "def calculate_cc_perturb_integrals(p_c_1, p_c_2, #state variables (removed p_p)\n",
    "                        k, #redundant state variables already calculated in calling function\n",
    "                        l, Z_c_1, Z_c_2, d_c_1, d_c_2, #system parameters\n",
    "                        N, dr): # integration parameters\n",
    "    \n",
    "    #effective charge parameter to be used in calculating the DLVO colloid-colloid pair interaction\n",
    "    Z_c_1_eff = Z_c_1*(exp(k*(d_c_1/2.0))/(1.0 + k*(d_c_1/2.0)))\n",
    "    Z_c_2_eff = Z_c_2*(exp(k*(d_c_2/2.0))/(1.0 + k*(d_c_2/2.0)))\n",
    "    \n",
    "    #use a bare HS fluid (colloid) + ideal point particle (polymer) system as the reference \n",
    "    GR = calculate_rdfs(p_c_1, p_c_2, d_c_1, d_c_2, N, dr)\n",
    "    \n",
    "    #calculate the three integrals\n",
    "    #the rdf only contains data outside the core region\n",
    "    #NOTE: for better performance i vectorized the trapezoidal integration, so no explicit loops\n",
    "    \n",
    "    #1-1 calculation\n",
    "    GR_I = GR[\"g_11\"][0:-1]\n",
    "    GR_II = GR[\"g_11\"][1:]\n",
    "    R_I = GR[\"r_11\"][0:-1]\n",
    "    R_II = GR[\"r_11\"][1:]\n",
    "    BUR_I = (Z_c_1_eff**2.0)*l*(exp(-k*R_I)/R_I)\n",
    "    BUR_II = (Z_c_1_eff**2.0)*l*(exp(-k*R_II)/R_II)\n",
    "    FR_I = exp(-BUR_I) - 1.0\n",
    "    FR_II = exp(-BUR_II) - 1.0\n",
    "    integral_11 = 0.5*dr*sum(R_I*R_I*GR_I*FR_I + R_II*R_II*GR_II*FR_II)\n",
    "    \n",
    "    #2-2 calculation\n",
    "    GR_I = GR[\"g_22\"][0:-1]\n",
    "    GR_II = GR[\"g_22\"][1:]\n",
    "    R_I = GR[\"r_22\"][0:-1]\n",
    "    R_II = GR[\"r_22\"][1:]\n",
    "    BUR_I = (Z_c_2_eff**2.0)*l*(exp(-k*R_I)/R_I)\n",
    "    BUR_II = (Z_c_2_eff**2.0)*l*(exp(-k*R_II)/R_II)\n",
    "    FR_I = exp(-BUR_I) - 1.0\n",
    "    FR_II = exp(-BUR_II) - 1.0\n",
    "    integral_22 = 0.5*dr*sum(R_I*R_I*GR_I*FR_I + R_II*R_II*GR_II*FR_II)\n",
    "    \n",
    "    #1-2 calculation\n",
    "    GR_I = GR[\"g_12\"][0:-1]\n",
    "    GR_II = GR[\"g_12\"][1:]\n",
    "    R_I = GR[\"r_12\"][0:-1]\n",
    "    R_II = GR[\"r_12\"][1:]\n",
    "    BUR_I = (Z_c_1_eff*Z_c_2_eff)*l*(exp(-k*R_I)/R_I)\n",
    "    BUR_II = (Z_c_1_eff*Z_c_2_eff)*l*(exp(-k*R_II)/R_II)\n",
    "    FR_I = exp(-BUR_I) - 1.0\n",
    "    FR_II = exp(-BUR_II) - 1.0\n",
    "    integral_12 = 0.5*dr*sum(R_I*R_I*GR_I*FR_I + R_II*R_II*GR_II*FR_II)\n",
    "        \n",
    "    return (integral_11, integral_22, integral_12)\n",
    "\n",
    "#############################################################################################\n",
    "\n",
    "@memoized\n",
    "def calculate_f_ex_dlvo(p_c_1, p_c_2, p_pos, p_neg, #state variables\n",
    "                        l, Z_c_1, Z_c_2, d_c_1, d_c_2, #system parameters\n",
    "                        N, dr): #integration parameters\n",
    "    \n",
    "    #calculate various other parameters that make the below expression a little cleaner\n",
    "    #ion variables\n",
    "    p_ions = p_pos + p_neg\n",
    "    s = (2.0*p_pos*p_neg)/p_ions\n",
    "    k = (4.0*pi*l*p_ions)**(1.0/2.0)\n",
    "    #colloid variables\n",
    "    n_c_1 = (pi/6.0)*p_c_1*(d_c_1**3.0)\n",
    "    n_c_2 = (pi/6.0)*p_c_2*(d_c_2**3.0)\n",
    "    n_c = n_c_1 + n_c_2\n",
    "        \n",
    "    #breaking up the various contributions for simplicity\n",
    "    #NOTE: for safety i use integers for the exponents when charges are present to ensure sign preservation\n",
    "    f_ex_dlvo_ion_coord = -((p_c_1*(Z_c_1**2)*(l/d_c_1))*((k*(d_c_1/2.0))/(1.0 + k*(d_c_1/2.0)))\n",
    "                           + (p_c_2*(Z_c_2**2)*(l/d_c_2))*((k*(d_c_2/2.0))/(1.0 + k*(d_c_2/2.0))))\n",
    "    f_ex_dlvo_exc_vol = (n_c*s)/(1.0 - n_c)\n",
    "    f_ex_dlvo_neg_mean_field = -(1.0/2.0)*((4.0*pi*l*((p_c_1*Z_c_1)**2))/(k**2.0)\n",
    "                                           + (4.0*pi*l*((p_c_2*Z_c_2)**2))/(k**2.0)\n",
    "                                           + 2.0*(4.0*pi*l*(p_c_1*Z_c_1*p_c_2*Z_c_2))/(k**2.0))\n",
    "    #calculate perturbation integrals\n",
    "    (c1_c1_perturb_integral, \n",
    "     c2_c2_perturb_integral, \n",
    "     c1_c2_perturb_integral) = calculate_cc_perturb_integrals(p_c_1, p_c_2, k, l, Z_c_1, Z_c_2, d_c_1, d_c_2, N, dr)\n",
    "    \n",
    "    #calculate the mean field dlvo pair contribution us binary hard sphere reference structure\n",
    "    #NOTE: the negative in front of the 1/2 is because i am using a MAYER FUNCTION perturbation expansion\n",
    "    f_ex_dlvo_pair_perturb = -(1.0/2.0)*(4.0*pi*(p_c_1**2.0)*c1_c1_perturb_integral\n",
    "                                           + 4.0*pi*(p_c_2**2.0)*c2_c2_perturb_integral\n",
    "                                           + 2.0*4.0*pi*(p_c_1*p_c_2)*c1_c2_perturb_integral)\n",
    "    \n",
    "    #total DLVO contribution to the free energy\n",
    "    f_ex_dlvo = f_ex_dlvo_ion_coord + f_ex_dlvo_exc_vol + f_ex_dlvo_neg_mean_field + f_ex_dlvo_pair_perturb\n",
    "    \n",
    "    return f_ex_dlvo"
   ]
  },
  {
   "cell_type": "code",
   "execution_count": 74,
   "metadata": {
    "collapsed": false
   },
   "outputs": [
    {
     "data": {
      "text/plain": [
       "-313584783639.64514"
      ]
     },
     "execution_count": 74,
     "metadata": {},
     "output_type": "execute_result"
    }
   ],
   "source": [
    "#variables for transform\n",
    "N = 16384/2\n",
    "dr = 0.002\n",
    "\n",
    "p_c_1 = 12.0 #0.6\n",
    "p_c_2 = 0.6 #0.1\n",
    "\n",
    "p_pos = 0.1\n",
    "p_neg = 0.1\n",
    "\n",
    "Z_c_1 = -10.0\n",
    "Z_c_2 = 10.0\n",
    "\n",
    "l = 0.2364\n",
    "\n",
    "d_c_1 = 0.2\n",
    "d_c_2 = 1.000000001\n",
    "\n",
    "calculate_f_ex_dlvo(p_c_1, p_c_2, p_pos, p_neg, l, Z_c_1, Z_c_2, d_c_1, d_c_2, N, dr)\n"
   ]
  },
  {
   "cell_type": "code",
   "execution_count": null,
   "metadata": {
    "collapsed": true
   },
   "outputs": [],
   "source": [
    "-26.654992398174279"
   ]
  },
  {
   "cell_type": "markdown",
   "metadata": {
    "collapsed": false
   },
   "source": [
    "###Calculates the total free energy of the colloid-polymer-ion system\n",
    "This just calls the four separate free energy functions and adds them all up. \n",
    "\n",
    "Up to this point I have treated the colloid and ions all as separate entities. Formally this is fine but electroneutrality ultimately sets a linear constraint on what combinations of the three charges species are possible.\n",
    "\n",
    "---"
   ]
  },
  {
   "cell_type": "code",
   "execution_count": 75,
   "metadata": {
    "collapsed": false
   },
   "outputs": [],
   "source": [
    "def calculate_f_explicit_ions(p_c_1, p_c_2, p_pos, p_neg, #state variables\n",
    "                              d_c_1, d_c_2, #particle sizes\n",
    "                              l, Z_c_1, Z_c_2, #ionic solution parameters\n",
    "                              N, dr #integration parameters\n",
    "                             ):\n",
    "    \n",
    "    #ideal\n",
    "    f_id = calculate_f_id(p_c_1, p_c_2, p_pos, p_neg, d_c_1, d_c_2)\n",
    "    #excess hs\n",
    "    f_ex_hs = calculate_f_ex_hs(p_c_1, p_c_2, d_c_1, d_c_2)\n",
    "    #excess perturbative dlvo\n",
    "    f_ex_dlvo = calculate_f_ex_dlvo(p_c_1, p_c_2, p_pos, p_neg, l, Z_c_1, Z_c_2, d_c_1, d_c_2, N, dr) \n",
    "    #the whole thing\n",
    "    f = f_id + f_ex_hs + f_ex_dlvo\n",
    "    \n",
    "    return f"
   ]
  },
  {
   "cell_type": "markdown",
   "metadata": {
    "collapsed": true
   },
   "source": [
    "This is an alternative form that expresses the free energy in terms of densities alone by simply referencing the other form--this makes the stability calculation easier to work with."
   ]
  },
  {
   "cell_type": "code",
   "execution_count": 77,
   "metadata": {
    "collapsed": false
   },
   "outputs": [],
   "source": [
    "def calculate_f(p_c_1, p_c_2, p_s, #state variables\n",
    "                d_c_1, d_c_2, #particle sizes\n",
    "                l, Z_c_1, Z_c_2, #ionic solution parameters\n",
    "                N, dr #integration parameters\n",
    "               ):\n",
    "        \n",
    "    #calculate the various densities based on specifying the salt density and the colloid and polymer\n",
    "    p_pos = float(Z_c_1 <= 0.0)*(p_c_1*abs(Z_c_1)) + float(Z_c_2 <= 0.0)*(p_c_2*abs(Z_c_2)) + p_s\n",
    "    p_neg = float(Z_c_1 > 0.0)*(p_c_1*abs(Z_c_1)) + float(Z_c_2 > 0.0)*(p_c_2*abs(Z_c_2)) + p_s\n",
    "        \n",
    "    #sum up the contributions\n",
    "    f = calculate_f_explicit_ions(p_c_1, p_c_2, p_pos, p_neg, d_c_1, d_c_2, l, Z_c_1, Z_c_2, N, dr)\n",
    "\n",
    "    return (f, f/(p_c_1 + p_c_2 + p_pos + p_neg))"
   ]
  },
  {
   "cell_type": "markdown",
   "metadata": {
    "collapsed": true
   },
   "source": [
    "###Function for calculating the stability matrix and its determinant\n",
    "This calculates the determinant of the 3x3 stability matrix for use in finding homogenous phase spinodal limits. The matrix is only 3x3 despite the 4 components due to charge neutrality. The particular choice I make for the matrix is the 3x3 of chemical potential derivatives with respect to the colloid, polymer and salt particle numbers. Also, the **free energy is per V** (not N) as this simplifies the matrix elements.\n",
    "\n",
    "---"
   ]
  },
  {
   "cell_type": "code",
   "execution_count": 78,
   "metadata": {
    "collapsed": false
   },
   "outputs": [],
   "source": [
    "def calculate_stability_determinant(p_c_1, p_c_2, p_s, #state variables\n",
    "                                    d_c_1, d_c_2, #particle sizes\n",
    "                                    l, Z_c_1, Z_c_2, #ionic solution parameters\n",
    "                                    N, dr, #integration parameters\n",
    "                                    min_step #minimum step to use for hessian calculation\n",
    "                                   ):\n",
    "    \n",
    "    #calculate the hessian matrix\n",
    "    hess_steps = nd.MinStepGenerator(base_step=min_step, step_ratio=2.0, num_steps = 2)\n",
    "    calculate_hessian = lambda x: calculate_f(x[0], x[1], x[2], d_c_1, d_c_2, l, Z_c_1, Z_c_2, N, dr)[0]\n",
    "    stability_matrix = nd.Hessian(calculate_hessian, step = hess_steps)([p_c_1, p_c_2, p_s])\n",
    "    \n",
    "    #build the 3x3 stability matrix as a numpy array and calculate the determinant \n",
    "    #logdet is used to avoid issues with a small determinant (such as when an instability is reached)\n",
    "    (sign, logdet) = slogdet(stability_matrix)\n",
    "    stability_determinant = sign*exp(logdet)    \n",
    "        \n",
    "    #return the stability determinant\n",
    "    return (stability_matrix, stability_determinant)"
   ]
  },
  {
   "cell_type": "markdown",
   "metadata": {},
   "source": [
    "**Test to see if stability calculation is even working**"
   ]
  },
  {
   "cell_type": "code",
   "execution_count": 112,
   "metadata": {
    "collapsed": false
   },
   "outputs": [
    {
     "name": "stdout",
     "output_type": "stream",
     "text": [
      "(-0.29832774355031888, -5.1227917715154616)\n",
      "(array([[  56.85455262,    4.52510972,    0.64471122],\n",
      "       [   4.52510972,   56.85455262,    0.64471122],\n",
      "       [   0.64471122,    0.64471122,  197.24536105]]), 633501.40550835384)\n"
     ]
    }
   ],
   "source": [
    "#set variables\n",
    "N = 16384/2/2\n",
    "dr = 0.004\n",
    "\n",
    "d_c_1 = 1.0 #0.2\n",
    "d_c_2 = 1.0\n",
    "\n",
    "n_c_1 = 0.01\n",
    "n_c_2 = 0.01\n",
    "p_s = 0.01\n",
    "\n",
    "l = 0.2364\n",
    "Z_c_1 = 0.001#30.0\n",
    "Z_c_2 = 0.001#-30.0\n",
    "\n",
    "min_step = 0.002\n",
    "\n",
    "#alternatives\n",
    "p_c_1 = 6.0*n_c_1/(pi*d_c_1**3.0)\n",
    "p_c_2 = 6.0*n_c_2/(pi*d_c_2**3.0)\n",
    "\n",
    "print calculate_f(p_c_1, p_c_2, p_s, d_c_1, d_c_2, l, Z_c_1, Z_c_2, N, dr)\n",
    "print calculate_stability_determinant(p_c_1, p_c_2, p_s, d_c_1, d_c_2, l, Z_c_1, Z_c_2, N, dr, min_step)"
   ]
  },
  {
   "cell_type": "code",
   "execution_count": null,
   "metadata": {
    "collapsed": true
   },
   "outputs": [],
   "source": [
    "(9472.9822436520772, 0.9990576909568385)\n",
    "(9472.9822436520772, 0.9990576909568385)"
   ]
  },
  {
   "cell_type": "markdown",
   "metadata": {},
   "source": [
    "###Spinodal calculation from stability matrix\n",
    "This is a grid search that identifies points as being stable or unstable. Both types are passed back in separate arrays that can be plotted together to get a coarse grained view of the underlying phase behavior.\n",
    "\n",
    "---"
   ]
  },
  {
   "cell_type": "code",
   "execution_count": 115,
   "metadata": {
    "collapsed": true
   },
   "outputs": [],
   "source": [
    "#performs grid search and labels each point as stable or unstable\n",
    "def calculate_spinodal(p_c_1_low, p_c_1_hi, p_c_1_inc, p_c_2_low, p_c_2_hi, p_c_2_inc, #state variables for grid search\n",
    "                    p_s, #state variables held fixed\n",
    "                    d_c_1, d_c_2, #particle sizes\n",
    "                    l, Z_c_1, Z_c_2, #ionic solution parameters \n",
    "                    N, dr, #integration parameters\n",
    "                    min_step #minimum step to use for hessian calculation\n",
    "                    ):\n",
    "    \n",
    "    #lists for storing the grid points classified as stable and unstable \n",
    "    stable = [[],[],[],[],[]]\n",
    "    unstable = [[],[],[],[],[]]\n",
    "    \n",
    "    #sample the grid points\n",
    "    p_c_1 = p_c_1_low\n",
    "    while p_c_1 < p_c_1_hi:\n",
    "        print p_c_1\n",
    "        p_c_2 = p_c_2_low\n",
    "        while p_c_2 < p_c_2_hi:\n",
    "            determinant = calculate_stability_determinant(p_c_1, p_c_2, p_s, d_c_1, d_c_2, l, Z_c_1, Z_c_2, N, dr, min_step)[1]\n",
    "            if determinant < 0.0:\n",
    "                unstable[0].append(p_c_1)\n",
    "                unstable[1].append(p_c_2)\n",
    "                unstable[2].append(p_c_1/p_c_2)\n",
    "                unstable[3].append(((pi/6.0)*d_c_1**3.0)*p_c_1)\n",
    "                unstable[4].append(((pi/6.0)*d_c_2**3.0)*p_c_2)\n",
    "            else:\n",
    "                stable[0].append(p_c_1)\n",
    "                stable[1].append(p_c_2)\n",
    "                stable[2].append(p_c_1/p_c_2)\n",
    "                stable[3].append(((pi/6.0)*d_c_1**3.0)*p_c_1)\n",
    "                stable[4].append(((pi/6.0)*d_c_2**3.0)*p_c_2)\n",
    "            p_c_2 = p_c_2 + p_c_2_inc\n",
    "            #print p_p\n",
    "        p_c_1 = p_c_1 + p_c_1_inc\n",
    "        #print p_c\n",
    "    \n",
    "    return (stable, unstable)"
   ]
  },
  {
   "cell_type": "code",
   "execution_count": 59,
   "metadata": {
    "collapsed": false
   },
   "outputs": [],
   "source": [
    "#explicitly finds the spinodal boundary only\n",
    "def calculate_spinodal_boundary_density(p_c_low, p_c_hi, p_c_inc, p_p_low, p_p_hi, p_p_inc, #state variables for grid search\n",
    "                    p_s, #state variables held fixed\n",
    "                    d_c, d_p, #particle sizes\n",
    "                    l, Z_c, #ionic solution parameters \n",
    "                    R_cp, BA, #interfacial attraction parameters\n",
    "                    min_step #minimum step to use for hessian calculation\n",
    "                    ):\n",
    "    \n",
    "    #list for storing the boundary\n",
    "    boundary = [[],[],[],[],[]]\n",
    "    \n",
    "    #sample the grid points\n",
    "    p_p = p_p_low\n",
    "    while p_p < p_p_hi:\n",
    "        p_c = p_c_low\n",
    "        determinant_previous = 0.0001\n",
    "        boundary_count = 0 \n",
    "        while (p_c < p_c_hi) and (boundary_count < 2):\n",
    "            determinant = calculate_stability_determinant(p_c, p_p, p_s, d_c, d_p, l, Z_c, R_cp, BA, min_step)[1]   \n",
    "            if ((determinant < 0.0) and (determinant_previous > 0.0)) or ((determinant > 0.0) and (determinant_previous < 0.0)):\n",
    "                slope = (determinant - determinant_previous)/p_c_inc\n",
    "                intercept = determinant - slope*p_c\n",
    "                p_c_spinodal = -intercept/slope\n",
    "                boundary[0].append(p_c_spinodal)\n",
    "                boundary[1].append(p_p)\n",
    "                boundary[2].append(p_p/p_c_spinodal)\n",
    "                boundary[3].append(((pi/6.0)*d_c*d_c*d_c)*p_c_spinodal)\n",
    "                boundary[4].append(((pi/6.0)*d_p*d_p*d_p)*p_p)\n",
    "                boundary_count = boundary_count + 1\n",
    "            p_c = p_c + p_c_inc\n",
    "            determinant_previous = determinant\n",
    "        p_p = p_p + p_p_inc       \n",
    "        \n",
    "    #sort from smallest to largest\n",
    "    zipped_list = zip(boundary[0][:], boundary[1][:], boundary[2][:], boundary[3][:], boundary[4][:])\n",
    "    boundary[0], boundary[1], boundary[2], boundary[3], boundary[4] = zip(*sorted(zipped_list[:]))\n",
    "    \n",
    "    return boundary"
   ]
  },
  {
   "cell_type": "code",
   "execution_count": 67,
   "metadata": {
    "collapsed": true
   },
   "outputs": [],
   "source": [
    "#explicitly finds the spinodal boundary only\n",
    "def calculate_spinodal_boundary_ratio(p_c_low, p_c_hi, p_c_inc, g_pc_low, g_pc_hi, g_pc_inc, #state variables for grid search\n",
    "                    p_s, #state variables held fixed\n",
    "                    d_c, d_p, #particle sizes\n",
    "                    l, Z_c, #ionic solution parameters \n",
    "                    R_cp, BA, #interfacial attraction parameters\n",
    "                    min_step #minimum step to use for hessian calculation\n",
    "                    ):\n",
    "    \n",
    "    #list for storing the boundary\n",
    "    boundary = [[],[],[],[],[]]\n",
    "    \n",
    "    #sample the grid points\n",
    "    g_pc = g_pc_low\n",
    "    while g_pc < g_pc_hi:\n",
    "        #get initial point manualy\n",
    "        p_c = p_c_low\n",
    "        p_p = g_pc * p_c \n",
    "        determinant_previous = calculate_stability_determinant(p_c, p_p, p_s, d_c, d_p, l, Z_c, R_cp, BA, min_step)[1]\n",
    "        #move on next point\n",
    "        p_c = p_c_low + p_c_inc\n",
    "        boundary_count = 0 \n",
    "        while (p_c < p_c_hi) and (boundary_count < 2):\n",
    "            p_p = g_pc * p_c \n",
    "            determinant = calculate_stability_determinant(p_c, p_p, p_s, d_c, d_p, l, Z_c, R_cp, BA, min_step)[1]\n",
    "            if ((determinant < 0.0) and (determinant_previous > 0.0)) or ((determinant > 0.0) and (determinant_previous < 0.0)):\n",
    "                slope = (determinant - determinant_previous)/p_c_inc\n",
    "                intercept = determinant - slope*p_c\n",
    "                p_c_spinodal = -intercept/slope\n",
    "                p_p_spinodal = g_pc*p_c_spinodal\n",
    "                boundary[0].append(p_c_spinodal)\n",
    "                boundary[1].append(p_p_spinodal)\n",
    "                boundary[2].append(p_p_spinodal/p_c_spinodal)\n",
    "                boundary[3].append(((pi/6.0)*d_c*d_c*d_c)*p_c_spinodal)\n",
    "                boundary[4].append(((pi/6.0)*d_p*d_p*d_p)*p_p_spinodal)\n",
    "                boundary_count = boundary_count + 1\n",
    "            p_c = p_c + p_c_inc\n",
    "            determinant_previous = determinant\n",
    "        g_pc = g_pc + g_pc_inc       \n",
    "        \n",
    "    #sort from smallest to largest\n",
    "    zipped_list = zip(boundary[0][:], boundary[1][:], boundary[2][:], boundary[3][:], boundary[4][:])\n",
    "    boundary[0], boundary[1], boundary[2], boundary[3], boundary[4] = zip(*sorted(zipped_list[:]))\n",
    "    \n",
    "    return boundary"
   ]
  },
  {
   "cell_type": "markdown",
   "metadata": {
    "collapsed": true
   },
   "source": [
    "**Set parameters and calculate the phase diagram**"
   ]
  },
  {
   "cell_type": "code",
   "execution_count": 139,
   "metadata": {
    "collapsed": false
   },
   "outputs": [
    {
     "name": "stdout",
     "output_type": "stream",
     "text": [
      "0.00954929661416\n",
      "0.0190985932283\n",
      "0.0286478898425\n",
      "0.0381971864566\n",
      "0.0477464830708\n",
      "0.057295779685\n",
      "0.0668450762991\n",
      "0.0763943729133\n",
      "0.0859436695275\n",
      "0.0954929661416\n",
      "0.105042262756\n",
      "0.11459155937\n",
      "0.124140855984\n",
      "0.133690152598\n",
      "0.143239449212\n",
      "0.152788745827\n",
      "0.162338042441\n",
      "0.171887339055\n",
      "0.181436635669\n",
      "0.190985932283\n",
      "0.200535228897\n",
      "0.210084525512\n",
      "0.219633822126\n",
      "0.22918311874\n"
     ]
    }
   ],
   "source": [
    "#actual experimental parameters (with dimensions of nm)\n",
    "#d_c_exp = 6.6\n",
    "#d_p_exp = 2.2\n",
    "#l_exp = 1.56\n",
    "\n",
    "#parameters\n",
    "d_c_1 = 0.999999999\n",
    "d_c_2 = 1.000000001\n",
    "N = 16384/2/2/2/2\n",
    "dr = 0.016\n",
    "l = 0.2364\n",
    "Z_c_1 = -5.0\n",
    "Z_c_2 = 5.0\n",
    "\n",
    "#colloid\n",
    "n_c_1_low = 0.005 #0.015\n",
    "n_c_1_hi = 0.12\n",
    "n_c_1_inc = 0.005 #0.015\n",
    "#polymer\n",
    "n_c_2_low = 0.005 #0.015\n",
    "n_c_2_hi = 0.12\n",
    "n_c_2_inc = 0.005 #0.015\n",
    "\n",
    "#recalculate in terms of densities\n",
    "p_c_1_low = 6.0*n_c_1_low/(pi*d_c_1**3.0)\n",
    "p_c_1_hi = 6.0*n_c_1_hi/(pi*d_c_1**3.0)\n",
    "p_c_1_inc = 6.0*n_c_1_inc/(pi*d_c_1**3.0)\n",
    "p_c_2_low = 6.0*n_c_2_low/(pi*d_c_2**3.0)\n",
    "p_c_2_hi = 6.0*n_c_2_hi/(pi*d_c_2**3.0)\n",
    "p_c_2_inc = 6.0*n_c_2_inc/(pi*d_c_2**3.0)\n",
    "\n",
    "#salt\n",
    "p_s = 0.0001\n",
    "\n",
    "min_step= 0.001 #0.001\n",
    "stable, unstable = calculate_spinodal(p_c_1_low, p_c_1_hi, p_c_1_inc, \n",
    "                                      p_c_2_low, p_c_2_hi, p_c_2_inc, \n",
    "                                      p_s, d_c_1, d_c_2, l, Z_c_1, Z_c_2, N, dr, min_step)"
   ]
  },
  {
   "cell_type": "markdown",
   "metadata": {},
   "source": [
    "**Plot the phase diagram**"
   ]
  },
  {
   "cell_type": "code",
   "execution_count": 140,
   "metadata": {
    "collapsed": false
   },
   "outputs": [
    {
     "data": {
      "text/plain": [
       "<matplotlib.text.Text at 0x4ce81198>"
      ]
     },
     "execution_count": 140,
     "metadata": {},
     "output_type": "execute_result"
    },
    {
     "data": {
      "image/png": "[encoded data removed]",
      "text/plain": [
       "<matplotlib.figure.Figure at 0x4cf15588>"
      ]
     },
     "metadata": {},
     "output_type": "display_data"
    }
   ],
   "source": [
    "#font scpecifications\n",
    "title_font = {'family' : 'arial', 'color'  : 'black', 'weight' : 'heavy','size': 20}\n",
    "axis_label_font = {'family' : 'arial', 'color'  : 'black', 'weight' : 'normal','size': 20}\n",
    "\n",
    "#figure size and tick style\n",
    "plt.rcParams[\"figure.figsize\"] = [6,6]\n",
    "plt.rc('axes',edgecolor='black',linewidth=1)\n",
    "plt.tick_params(which='both', axis='both', color='black', length=4, width=0.5)\n",
    "plt.rcParams['xtick.direction'] = 'in'\n",
    "plt.rcParams['ytick.direction'] = 'in'\n",
    "\n",
    "\n",
    "plt.xlabel('Colloid volume fraction', fontsize=20, fontdict = axis_label_font)\n",
    "plt.ylabel('Polymer volume fraction', fontsize=20, fontdict = axis_label_font)\n",
    "plt.scatter(stable[3], stable[4], c=\"b\", marker=\"s\", s=40, alpha=0.3, linewidths=0.0)\n",
    "plt.scatter(unstable[3],unstable[4], c=\"g\", marker=\"s\", s=40, alpha=0.8, linewidths=0.0)\n",
    "plt.ylim((0,0.12))\n",
    "plt.xlim((0,0.12))\n",
    "\n",
    "#title and axis labels\n",
    "plt.tick_params(axis='both', labelsize=20)\n",
    "plt.title(\"Stability phase diagram\", y=1.05, fontdict = title_font)\n"
   ]
  },
  {
   "cell_type": "code",
   "execution_count": null,
   "metadata": {
    "collapsed": true
   },
   "outputs": [],
   "source": []
  },
  {
   "cell_type": "code",
   "execution_count": null,
   "metadata": {
    "collapsed": true
   },
   "outputs": [],
   "source": []
  },
  {
   "cell_type": "markdown",
   "metadata": {},
   "source": [
    "###Extra functions\n",
    "\n",
    "---\n",
    "\n",
    "---\n",
    "\n",
    "---"
   ]
  },
  {
   "cell_type": "markdown",
   "metadata": {},
   "source": [
    "**Sizes**"
   ]
  },
  {
   "cell_type": "code",
   "execution_count": 36,
   "metadata": {
    "collapsed": false
   },
   "outputs": [
    {
     "data": {
      "text/plain": [
       "<matplotlib.text.Text at 0x173a1668>"
      ]
     },
     "execution_count": 36,
     "metadata": {},
     "output_type": "execute_result"
    },
    {
     "data": {
      "image/png": "[encoded data removed]",
      "text/plain": [
       "<matplotlib.figure.Figure at 0x16c3b4e0>"
      ]
     },
     "metadata": {},
     "output_type": "display_data"
    }
   ],
   "source": [
    "#font scpecifications\n",
    "title_font = {'family' : 'arial', 'color'  : 'black', 'weight' : 'heavy','size': 20}\n",
    "axis_label_font = {'family' : 'arial', 'color'  : 'black', 'weight' : 'normal','size': 20}\n",
    "\n",
    "#figure size and tick style\n",
    "plt.rcParams[\"figure.figsize\"] = [6,6]\n",
    "plt.rc('axes',edgecolor='black',linewidth=1)\n",
    "plt.tick_params(which='both', axis='both', color='black', length=4, width=0.5)\n",
    "plt.rcParams['xtick.direction'] = 'in'\n",
    "plt.rcParams['ytick.direction'] = 'in'\n",
    "\n",
    "\n",
    "plt.xlabel('Colloid volume fraction', fontsize=20, fontdict = axis_label_font)\n",
    "plt.ylabel('Polymer volume fraction', fontsize=20, fontdict = axis_label_font)\n",
    "plt.scatter(stable[3], stable[1], c=\"b\", marker=\"s\", s=40, alpha=0.3, linewidths=0.0)\n",
    "plt.scatter(unstable[3],unstable[1], c=\"g\", marker=\"s\", s=40, alpha=0.8, linewidths=0.0)\n",
    "plt.ylim((0,15))\n",
    "plt.xlim((0,0.35))\n",
    "\n",
    "#title and axis labels\n",
    "plt.tick_params(axis='both', labelsize=20)\n",
    "plt.title(\"Stability phase diagram\", y=1.05, fontdict = title_font)"
   ]
  },
  {
   "cell_type": "code",
   "execution_count": null,
   "metadata": {
    "collapsed": true
   },
   "outputs": [],
   "source": [
    "\n",
    "\n"
   ]
  },
  {
   "cell_type": "code",
   "execution_count": null,
   "metadata": {
    "collapsed": true
   },
   "outputs": [],
   "source": []
  },
  {
   "cell_type": "code",
   "execution_count": null,
   "metadata": {
    "collapsed": true
   },
   "outputs": [],
   "source": []
  },
  {
   "cell_type": "code",
   "execution_count": 15,
   "metadata": {
    "collapsed": false
   },
   "outputs": [
    {
     "data": {
      "text/plain": [
       "1.800000051898494"
      ]
     },
     "execution_count": 15,
     "metadata": {},
     "output_type": "execute_result"
    }
   ],
   "source": [
    "import numpy as np\n",
    "sum([n*proba[n] for n in range(7)])"
   ]
  },
  {
   "cell_type": "code",
   "execution_count": null,
   "metadata": {
    "collapsed": true
   },
   "outputs": [],
   "source": []
  },
  {
   "cell_type": "code",
   "execution_count": null,
   "metadata": {
    "collapsed": true
   },
   "outputs": [],
   "source": []
  },
  {
   "cell_type": "code",
   "execution_count": null,
   "metadata": {
    "collapsed": true
   },
   "outputs": [],
   "source": []
  },
  {
   "cell_type": "code",
   "execution_count": null,
   "metadata": {
    "collapsed": true
   },
   "outputs": [],
   "source": []
  },
  {
   "cell_type": "code",
   "execution_count": null,
   "metadata": {
    "collapsed": true
   },
   "outputs": [],
   "source": []
  },
  {
   "cell_type": "code",
   "execution_count": null,
   "metadata": {
    "collapsed": true
   },
   "outputs": [],
   "source": []
  },
  {
   "cell_type": "markdown",
   "metadata": {},
   "source": [
    "###Check of free energy using monodisperse hs"
   ]
  },
  {
   "cell_type": "code",
   "execution_count": null,
   "metadata": {
    "collapsed": true
   },
   "outputs": [],
   "source": [
    "def calculate_f_ex_hs_mono(p, d_c):\n",
    "    \n",
    "    #for convenience I just us a numbered notation similar to that in the above reference\n",
    "    n = (pi/6.0)*p*(d_c**3.0)\n",
    "    \n",
    "    #final binary hs free energy\n",
    "    f_ex_hs_mono = p*((4.0*n - 3.0*(n**2.0))/((1.0 - n)**2.0))\n",
    "    \n",
    "    return f_ex_hs_mono"
   ]
  },
  {
   "cell_type": "code",
   "execution_count": 129,
   "metadata": {
    "collapsed": false
   },
   "outputs": [
    {
     "name": "stdout",
     "output_type": "stream",
     "text": [
      "1.99346280814\n",
      "1.99346280814\n"
     ]
    }
   ],
   "source": [
    "p_c_pos = 0.2\n",
    "p_c_neg = 0.3\n",
    "p = p_c_pos + p_c_neg\n",
    "\n",
    "d_c = 1.2\n",
    "d_c_pos = d_c\n",
    "d_c_neg = d_c\n",
    "\n",
    "print calculate_f_ex_hs(p_c_pos, p_c_neg, d_c_pos, d_c_neg)\n",
    "print calculate_f_ex_hs_mono(p, d_c)"
   ]
  }
 ],
 "metadata": {
  "kernelspec": {
   "display_name": "Python 2",
   "language": "python",
   "name": "python2"
  },
  "language_info": {
   "codemirror_mode": {
    "name": "ipython",
    "version": 2
   },
   "file_extension": ".py",
   "mimetype": "text/x-python",
   "name": "python",
   "nbconvert_exporter": "python",
   "pygments_lexer": "ipython2",
   "version": "2.7.10"
  }
 },
 "nbformat": 4,
 "nbformat_minor": 0
}
